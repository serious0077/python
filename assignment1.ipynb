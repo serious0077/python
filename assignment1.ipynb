{
 "cells": [
  {
   "cell_type": "markdown",
   "metadata": {},
   "source": [
    "1. a=\"Hello Python\" 문자열을 Slicing과 연결 연산자 (+)를 사용하여 \"Python Hello\"로 변경하시오.\n",
    "  -    [주의] a 변수 자체에 \"Python Hello\" 문자열이 저장되어야 함"
   ]
  },
  {
   "cell_type": "code",
   "execution_count": 1,
   "metadata": {
    "scrolled": false
   },
   "outputs": [
    {
     "name": "stdout",
     "output_type": "stream",
     "text": [
      "Python Hello\n"
     ]
    }
   ],
   "source": [
    "a=\"Hello Python\"\n",
    "a= a[6:]+' '+a[:5]\n",
    "print(a)"
   ]
  },
  {
   "cell_type": "markdown",
   "metadata": {},
   "source": [
    "> 변수a에서 Hello와 Python가 들어있는 부분을 각각 슬라이싱하여 +연산자를 이용하여 다시 하나의 문자열로 만들어 변수 a에 저장한다.\n",
    "\n",
    "\n",
    "\n",
    "\n"
   ]
  },
  {
   "cell_type": "markdown",
   "metadata": {},
   "source": [
    "2. b=\"Hello Python World\" 문자열을 Slicing과 연결 연산자 (+)를 사용하여 \"World Python Hello\"로 변경하시오.\n",
    "    - [주의] b 변수 자체에 \"World Python Hello\" 문자열이 저장되어야 함 "
   ]
  },
  {
   "cell_type": "code",
   "execution_count": 2,
   "metadata": {},
   "outputs": [
    {
     "name": "stdout",
     "output_type": "stream",
     "text": [
      "World Python Hello\n"
     ]
    }
   ],
   "source": [
    "b=\"Hello Python World\"\n",
    "b= b[13:]+' '+b[6:12]+' '+b[:5]\n",
    "print(b)"
   ]
  },
  {
   "cell_type": "markdown",
   "metadata": {},
   "source": [
    ">변수b에서 Hello와 Python과 World가 들어있는 부분을 각각 슬라이싱하여 \n",
    "+연산자를 이용하여 다시 하나의 문자열로 만들어 변수 b에 저장한다."
   ]
  },
  {
   "cell_type": "markdown",
   "metadata": {},
   "source": [
    "3. c=\"Hello\"를 \"olleH\"로 변경하시오.\n",
    "   - [주의] c 변수 자체에 \"olleH\" 문자열이 저장되어야 함\n"
   ]
  },
  {
   "cell_type": "code",
   "execution_count": 3,
   "metadata": {},
   "outputs": [
    {
     "name": "stdout",
     "output_type": "stream",
     "text": [
      "olleH\n"
     ]
    }
   ],
   "source": [
    "c=\"Hello\"\n",
    "c=c[::-1]\n",
    "print(c)"
   ]
  },
  {
   "cell_type": "markdown",
   "metadata": {},
   "source": [
    "> c[::-1]은 문자열의 마지막부터 앞으로 한칸씩 슬라이싱하는것이다. 따라서 문자열을 뒤집을 수 있다."
   ]
  },
  {
   "cell_type": "markdown",
   "metadata": {},
   "source": [
    "4. s=\"python\"에 대해 다음 문제를 풀어보시오.\n",
    "   - A. s[0], s[0][0], s[0][0][0]은 각각 어떤 값이 나오는지 확인하고 그 이유를 나름대로 설명해 보시오.\n",
    "   - B. s[-100], s[100]은 값이 나오는지 에러가 나오는지 확인하고 그 결과에 대한 이유를 나름대로 설명해 보시오.\n",
    "   - C. s[-100, 100]은 값이 나오는지 에러가 나오는지 확인하고 그 결과에 대한 이유를 나름대로 설명해 보시오.\n",
    "   - D. s[1:-1]의 결과를 확인하고 그 결과에 대한 이유를 정확하게 설명하시오.\n",
    "   - E. s[3:-3]의 결과를 확인하고 그 결과에 대한 이유를 정확하게 설명하시오.\n"
   ]
  },
  {
   "cell_type": "code",
   "execution_count": 4,
   "metadata": {},
   "outputs": [
    {
     "name": "stdout",
     "output_type": "stream",
     "text": [
      "p p p\n"
     ]
    }
   ],
   "source": [
    "s=\"python\"\n",
    "print(s[0],s[0][0],s[0][0][0])"
   ]
  },
  {
   "cell_type": "markdown",
   "metadata": {},
   "source": [
    ">- s[0]은 s문자열에서 인덱스가 0인 문자를 출력하는것이다. \n",
    "- s[0][0]은 이차원 배열에서 맨 첫번째 인자를 출력한다.\n",
    "- s[0][0][0]은 삼차원 배열에서 맨 첫번째 인자를 출력한다. "
   ]
  },
  {
   "cell_type": "code",
   "execution_count": 5,
   "metadata": {},
   "outputs": [
    {
     "ename": "IndexError",
     "evalue": "string index out of range",
     "output_type": "error",
     "traceback": [
      "\u001b[1;31m---------------------------------------------------------------------------\u001b[0m",
      "\u001b[1;31mIndexError\u001b[0m                                Traceback (most recent call last)",
      "\u001b[1;32m<ipython-input-5-92bf799b20a3>\u001b[0m in \u001b[0;36m<module>\u001b[1;34m()\u001b[0m\n\u001b[1;32m----> 1\u001b[1;33m \u001b[0mprint\u001b[0m\u001b[1;33m(\u001b[0m\u001b[0ms\u001b[0m\u001b[1;33m[\u001b[0m\u001b[1;33m-\u001b[0m\u001b[1;36m100\u001b[0m\u001b[1;33m]\u001b[0m\u001b[1;33m,\u001b[0m\u001b[0ms\u001b[0m\u001b[1;33m[\u001b[0m\u001b[1;36m100\u001b[0m\u001b[1;33m]\u001b[0m\u001b[1;33m)\u001b[0m\u001b[1;33m\u001b[0m\u001b[0m\n\u001b[0m",
      "\u001b[1;31mIndexError\u001b[0m: string index out of range"
     ]
    }
   ],
   "source": [
    "print(s[-100],s[100])"
   ]
  },
  {
   "cell_type": "markdown",
   "metadata": {},
   "source": [
    ">- s에 저장된 문자열은 python으로 범위가 -6~5까지이다. 하지만 출력하고자한 s[-100]과 s[100]은 범위가 벗어나므로 오류가 출력된다."
   ]
  },
  {
   "cell_type": "code",
   "execution_count": 6,
   "metadata": {},
   "outputs": [
    {
     "ename": "TypeError",
     "evalue": "string indices must be integers",
     "output_type": "error",
     "traceback": [
      "\u001b[1;31m---------------------------------------------------------------------------\u001b[0m",
      "\u001b[1;31mTypeError\u001b[0m                                 Traceback (most recent call last)",
      "\u001b[1;32m<ipython-input-6-c209b42beee1>\u001b[0m in \u001b[0;36m<module>\u001b[1;34m()\u001b[0m\n\u001b[1;32m----> 1\u001b[1;33m \u001b[0mprint\u001b[0m\u001b[1;33m(\u001b[0m\u001b[0ms\u001b[0m\u001b[1;33m[\u001b[0m\u001b[1;33m-\u001b[0m\u001b[1;36m100\u001b[0m\u001b[1;33m,\u001b[0m \u001b[1;36m100\u001b[0m\u001b[1;33m]\u001b[0m\u001b[1;33m)\u001b[0m\u001b[1;33m\u001b[0m\u001b[0m\n\u001b[0m",
      "\u001b[1;31mTypeError\u001b[0m: string indices must be integers"
     ]
    }
   ],
   "source": [
    "print(s[-100, 100])"
   ]
  },
  {
   "cell_type": "markdown",
   "metadata": {},
   "source": [
    ">- 위의 오류코드를 보면 문자열의 인덱스가 정수로 정의되지 않다고 나와있다. 그걸로 보아 [-100, 100]이 리스트로 인식되는 것 같다.\n",
    "따라서 s의 인덱스로 정수형이 아닌 리스트형이 왔기 때문에 오류가 발생하는 것 같다."
   ]
  },
  {
   "cell_type": "code",
   "execution_count": 7,
   "metadata": {},
   "outputs": [
    {
     "name": "stdout",
     "output_type": "stream",
     "text": [
      "ytho\n"
     ]
    }
   ],
   "source": [
    "print(s[1:-1])"
   ]
  },
  {
   "cell_type": "markdown",
   "metadata": {},
   "source": [
    ">- 슬라이싱 범위를 보면 인덱스가 1에서 -1까지이다. 따라서 인덱스가 1인 y부터 인덱스가 -1인 n전까지이다. "
   ]
  },
  {
   "cell_type": "code",
   "execution_count": 8,
   "metadata": {},
   "outputs": [
    {
     "name": "stdout",
     "output_type": "stream",
     "text": [
      "\n"
     ]
    }
   ],
   "source": [
    "print(s[3:-3])"
   ]
  },
  {
   "cell_type": "markdown",
   "metadata": {},
   "source": [
    ">- 슬라이싱 범위를 보면 인덱스가 3인 h부터 인덱스가 -3인 h전까지이다. 즉 슬라이싱이 되는 부분이 없으므로 아무것도 출력되지 않는다."
   ]
  },
  {
   "cell_type": "markdown",
   "metadata": {},
   "source": [
    "5. for문을 활용하여 1부터 100사이의 홀수를 출력하시오."
   ]
  },
  {
   "cell_type": "code",
   "execution_count": 9,
   "metadata": {},
   "outputs": [
    {
     "name": "stdout",
     "output_type": "stream",
     "text": [
      "1 3 5 7 9 11 13 15 17 19 21 23 25 27 29 31 33 35 37 39 41 43 45 47 49 51 53 55 57 59 61 63 65 67 69 71 73 75 77 79 81 83 85 87 89 91 93 95 97 99 "
     ]
    }
   ],
   "source": [
    "for i in range(1,101,2):\n",
    "    print(i, end=(\" \"))"
   ]
  },
  {
   "cell_type": "markdown",
   "metadata": {},
   "source": [
    ">- range의 인자를 보면 첫번째는 start, 두번째는 stop 그리고 세번째는 step이다. 즉 start부터 stop-1까지 step씩 증가하는 값 i를 출력한다."
   ]
  },
  {
   "cell_type": "markdown",
   "metadata": {},
   "source": [
    "6. while문을 활용하여 1부터 100사이의 짝수의 합을 계산하여 출력하시오."
   ]
  },
  {
   "cell_type": "code",
   "execution_count": 10,
   "metadata": {},
   "outputs": [
    {
     "name": "stdout",
     "output_type": "stream",
     "text": [
      "2550\n"
     ]
    }
   ],
   "source": [
    "count=1 \n",
    "result=0\n",
    "while count<101:\n",
    "    if count%2==0:\n",
    "        result += count\n",
    "    count+=1\n",
    "print(result)"
   ]
  },
  {
   "cell_type": "markdown",
   "metadata": {},
   "source": [
    ">- count변수를 이용하여 1부터 100번까지 while문 안의 코드를 반복한다.\n",
    "그리고 count를 2로 나누었을때 나머지가 0이면 짝수이므로 그 때의 count값과 기존의 result 값을 더해 나가면 짝수의 합을 구할수 있다."
   ]
  },
  {
   "cell_type": "markdown",
   "metadata": {},
   "source": [
    "7. 사용자로부터 임의의 정수를 입력받고, 해당 숫자를 역순으로 출력하는 프로그램을 작성하시오.\n",
    "    - [실행 예]\n",
    "    - 정수를 입력하세요: 3125\n",
    "    - 숫자 역순은 5213 입니다.\n"
   ]
  },
  {
   "cell_type": "code",
   "execution_count": 11,
   "metadata": {},
   "outputs": [
    {
     "name": "stdout",
     "output_type": "stream",
     "text": [
      "정수를 입력하세요 : 3125\n",
      "숫자 역순은 5213 입니다.\n"
     ]
    }
   ],
   "source": [
    "a= input(\"정수를 입력하세요 : \")\n",
    "print(\"숫자 역순은 \"+a[::-1]+\" 입니다.\")"
   ]
  },
  {
   "cell_type": "markdown",
   "metadata": {},
   "source": [
    ">- input은 문자열을 입력받는다. 즉 사용자가 임의의 정수를 입력하여도 문자열로 인식되어 저장된다. 따라서 문자열에는 슬라이싱이 사용가능하다. [::-1]을 이용하면 문자열을 뒤집어 출력할 수 있다."
   ]
  },
  {
   "cell_type": "markdown",
   "metadata": {},
   "source": [
    "8. 사용자로 부터 정수를 입력받아서 1부터 그 사이에 존재하는 소수 (Prime number)를 출력하는 파이썬 프로그램을 작성하시오."
   ]
  },
  {
   "cell_type": "code",
   "execution_count": 12,
   "metadata": {},
   "outputs": [
    {
     "name": "stdout",
     "output_type": "stream",
     "text": [
      "정수를 입력하세요 : 124\n",
      "2, 3, 5, 7, 11, 13, 17, 19, 23, 29, 31, 37, 41, 43, 47, 53, 59, 61, 67, 71, 73, 79, 83, 89, 97, 101, 103, 107, 109, 113, "
     ]
    }
   ],
   "source": [
    "b=int(input(\"정수를 입력하세요 : \"))\n",
    "count=0\n",
    "for i in range(1,b+1):\n",
    "    for j in range(1,i+1):\n",
    "        if i%j==0:\n",
    "            count += 1\n",
    "    if count==2:\n",
    "        print(i,end=(\", \"))\n",
    "    count=0"
   ]
  },
  {
   "cell_type": "markdown",
   "metadata": {},
   "source": [
    ">- 우선 사용자에게 정수를 입력받으면 그것은 문자열이 된다. 이것을 int()을 사용하여 정수형으로 바꿔줘야 한다.\n",
    "다음으로 소수는 1과 자기 자신으로만 나누어지는 특성을 가지고 있는것을 이용한다.\n",
    "이중 for문을 이용하여 i변수가 j변수로 나누어떨어질때 count를 하나씩 증가시켜준다. \n",
    "여기서 count변수가 2가 되면 소수가 되고 나머지는 소수가 아니다. "
   ]
  },
  {
   "cell_type": "markdown",
   "metadata": {},
   "source": [
    "9. 첫째 줄에는 별 N개, 둘째 줄에는 별 N-1개, ..., N번째 줄에는 별 1개를 찍는 문제\n",
    "\n",
    "    하지만, 오른쪽을 기준으로 정렬한 별 (예제 참고)을 출력하시오.\n"
   ]
  },
  {
   "cell_type": "code",
   "execution_count": 13,
   "metadata": {},
   "outputs": [
    {
     "name": "stdout",
     "output_type": "stream",
     "text": [
      "10\n",
      "**********\n",
      " *********\n",
      "  ********\n",
      "   *******\n",
      "    ******\n",
      "     *****\n",
      "      ****\n",
      "       ***\n",
      "        **\n",
      "         *\n"
     ]
    }
   ],
   "source": [
    "N = int(input())\n",
    "for i in range(1, N+1):\n",
    "    for j in range(0, i-1):\n",
    "        print(\" \", end=\"\")\n",
    "    for k in range(1, N-i+2):\n",
    "        print(\"*\", end=\"\")\n",
    "    print()\n",
    "   "
   ]
  },
  {
   "cell_type": "markdown",
   "metadata": {},
   "source": [
    ">N을 사용자에게 입력받아서 이중for문을 이용한다.   \n",
    " 우선 공백은 첫번째줄은 0개 두번째줄은 1개 ....이런식으로 마지막 N번째줄은 N-1개이고  \n",
    " 여기서 별은 첫번째줄에 N개 두번째줄은 N-1개이고 마지막 N번째줄은 1개이다.   \n",
    " 이러한 순서를 보면 첫번째줄은 공백0개 별이 N개이고 두번째줄은 공백1개 별이 N-1개이고 마지막줄은 공백 N-1개 별은 1개이다.\n",
    " 이것을 for문을 이용하여 위의 성질을 이용하면 N번을 반복할때 각각 공백의 수와 별의 수의 합이 총 N이 되게 만들면 된다."
   ]
  },
  {
   "cell_type": "markdown",
   "metadata": {},
   "source": [
    "10. 알파벳 소문자와 대문자로만 이루어진 길이가 N인 단어가 주어진다.\n",
    "\n",
    "    한 줄에 10글자씩 끊어서 출력하는 프로그램을 작성하시오.\n"
   ]
  },
  {
   "cell_type": "code",
   "execution_count": 14,
   "metadata": {},
   "outputs": [
    {
     "name": "stdout",
     "output_type": "stream",
     "text": [
      "OneTwoThreeFourFiveSixSevenEightNineTen\n",
      "OneTwoThre\n",
      "eFourFiveS\n",
      "ixSevenEig\n",
      "htNineTen"
     ]
    }
   ],
   "source": [
    "N=input()\n",
    "le = len(N)\n",
    "count=0\n",
    "for i in range(0, le):\n",
    "    print(N[i], end=\"\")\n",
    "    count+=1\n",
    "    if count==10:\n",
    "        print()\n",
    "        count = 0"
   ]
  },
  {
   "cell_type": "markdown",
   "metadata": {},
   "source": [
    ">사용자에게 N의 문자열을 입력받는다.  \n",
    "문자열의 길이를 가지는 le변수와 10글자씩 출력하기위한 count변수가 선언한다.\n",
    "for문을 이용하여 N의 문자열의 길이 만큼 반복하여 count가 0부터9까지 10개의 문자를 출력하고 count가 10이되면 할줄띄우면서 다시 count를 0으로 초기화한다."
   ]
  },
  {
   "cell_type": "markdown",
   "metadata": {},
   "source": [
    "11. 상근이는 요즘 설탕공장에서 설탕을 배달하고 있다. 상근이는 지금 사탕가게에 설탕을 정확하게 N킬로그램을 배달해야 한다. \n",
    "    설탕공장에서 만드는 설탕은 봉지에 담겨져 있다. 봉지는 3킬로그램 봉지와 5킬로그램 봉지가 있다.\n",
    "    상근이는 귀찮기 때문에, 최대한 적은 봉지를 들고 가려고 한다. 예를 들어, 18킬로그램 설탕을 배달해야 할 때, \n",
    "    3킬로그램 봉지 6개를 가져가도 되지만, 5킬로그램 3개와 3킬로그램 1개를 배달하면, 더 적은 개수의 봉지를 배달할 수 있다.\n",
    "    상근이가 설탕을 정확하게 N킬로그램 배달해야 할 때, 봉지 몇 개를 가져가면 되는지 그 수를 구하는 프로그램을 작성하시오.\n",
    "    \n",
    "    상근이가 배달하는 봉지의 최소 개수를 출력한다. 만약, 정확하게 N킬로그램을 만들 수 없다면 -1을 출력한다."
   ]
  },
  {
   "cell_type": "code",
   "execution_count": 15,
   "metadata": {},
   "outputs": [
    {
     "name": "stdout",
     "output_type": "stream",
     "text": [
      "14\n",
      "4\n"
     ]
    }
   ],
   "source": [
    "N=int(input())\n",
    "result, min=0,0\n",
    "for i in range(0,int(N/5)+1):\n",
    "    for j in range(0, int(N/3)+1):\n",
    "        if 5*i+3*j==N:\n",
    "            result = i+j\n",
    "            if(min==0):\n",
    "                min = result\n",
    "            if min > result:\n",
    "                min = result\n",
    "if min ==0:\n",
    "    print(\"-1\")\n",
    "else:\n",
    "    print(min)\n",
    "        "
   ]
  },
  {
   "cell_type": "code",
   "execution_count": 16,
   "metadata": {},
   "outputs": [
    {
     "name": "stdout",
     "output_type": "stream",
     "text": [
      "4\n",
      "-1\n"
     ]
    }
   ],
   "source": [
    "N=int(input())\n",
    "result, min=0,0\n",
    "for i in range(0,int(N/5)+1):\n",
    "    for j in range(0, int(N/3)+1):\n",
    "        if 5*i+3*j==N:\n",
    "            result = i+j\n",
    "            if(min==0):\n",
    "                min = result\n",
    "            if min > result:\n",
    "                min = result\n",
    "if min ==0:\n",
    "    print(\"-1\")\n",
    "else:\n",
    "    print(min)\n",
    "        "
   ]
  },
  {
   "cell_type": "markdown",
   "metadata": {},
   "source": [
    ">사용자에게 정수를 입력받아 N에 저장한다. 이때 input으로는 문자열 형식으로만 받아지므로 int내장함수를 사용하여 정수로 바꾸어준다.  \n",
    "그리고 5키로와 3키로로 완벽히 나누어 담을 때의 각 봉지의 합을 result변수에 넣는다. 그리고 result의 값이 가장 작을때 그 값을 min에 저장한다.\n",
    "이때 반복문의 범위는 봉지가 0개부터 N의값이 5또는 3으로 나눈 몫까지이다."
   ]
  },
  {
   "cell_type": "markdown",
   "metadata": {},
   "source": [
    "<img src=\"https://user-images.githubusercontent.com/43226314/46125125-42780b80-c217-11e8-83b1-55c2dd886d81.png\">"
   ]
  },
  {
   "cell_type": "markdown",
   "metadata": {},
   "source": [
    "이번 과제를 하면서 실제로 많이 사용하지 않았던 for문이나 if문 등을 직접 만들어 보고 기본적인 문법과 활용법을 익히게 되었습니다. 특히 파이썬은 c언어와 비슷하지만 조금씩 문법이 달라서 처음에는 조금씩 헷갈리곤 했지만 온라인 강의와 수업을 들으면서 직접 코드를 직접 써봄으로써 확실히 구별이 되기 시작하였습니다. 이제는 수업이 챕터가 두개씩 되므로 미리미리 공부하여 뒤쳐지는 일이 없도록 노력하겠습니다."
   ]
  }
 ],
 "metadata": {
  "kernelspec": {
   "display_name": "Python 3",
   "language": "python",
   "name": "python3"
  },
  "language_info": {
   "codemirror_mode": {
    "name": "ipython",
    "version": 3
   },
   "file_extension": ".py",
   "mimetype": "text/x-python",
   "name": "python",
   "nbconvert_exporter": "python",
   "pygments_lexer": "ipython3",
   "version": "3.6.5"
  }
 },
 "nbformat": 4,
 "nbformat_minor": 2
}
