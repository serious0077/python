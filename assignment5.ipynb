{
 "cells": [
  {
   "cell_type": "markdown",
   "metadata": {},
   "source": [
    "# 1. 클래스와 모듈의 공통점과 차이점에 대해 설명하시오."
   ]
  },
  {
   "cell_type": "markdown",
   "metadata": {},
   "source": [
    "> * 클래스와 모듈은 새로운 이름 공간을 지원하므로 코드의 재사용이 가능하다.\n",
    "* \n",
    "* 클래스는 사용자 정의 타입 생성이고 클래스 영역 내에 이름 공간을 구성한다.\n",
    "* \n",
    "* 모듈은 파이썬 프로그램 파일로서 파이썬 데이터와 함수등을 정의하고 있는 단위이다.\n",
    "* 즉 서로 연관된 작업을 하는 코드들을 묶어서 독립성을 유지하되 재사용 가능하게 만드는 단위리며 모듈을 사용하는 측에서는 모듈에 정의된 함수나 변수 이름을 사용한다.\n",
    "* 따라서 프로그램 개발시에 전체 코드들을 여러 모듈 단위로 분리하여 설계함으로써 작업의 효율을 높일 수 있고 별도의 이름 공간을 제공함으로써 동일한 이름의 여러 함수나 변수들이 각 모듈마다 독립적으로 정의될 수 있다."
   ]
  },
  {
   "cell_type": "markdown",
   "metadata": {},
   "source": [
    "# 2. 다형성에 대해 설명하고 다형성을 보여주는 자신만의 파이썬 코드 예제를 제시하시오."
   ]
  },
  {
   "cell_type": "markdown",
   "metadata": {},
   "source": [
    "> * 다형성이란 상속 관계 내의 다른 클래스들의 인스턴스들이 같은 멤버 함수 호출에 대해 각각 다르게 반응하도록 하는 기능이다. \n",
    "* 즉 연산자 오버로딩도 다형성을 지원하는 중요한 기술이다.\n",
    "* 이것의 작점으로는 적은 코딩으로 다양한 객체들에게 유사한 작업을 수행시킬 수 있고 그러므로서 코드의 가독성을 높혀준다."
   ]
  },
  {
   "cell_type": "code",
   "execution_count": 1,
   "metadata": {},
   "outputs": [
    {
     "name": "stdout",
     "output_type": "stream",
     "text": [
      "삼각형\n",
      "사각형\n",
      "원형\n",
      "도형\n"
     ]
    }
   ],
   "source": [
    "class Shape:\n",
    "    def draw(self):\n",
    "        print('도형')\n",
    "        \n",
    "class Tri(Shape):\n",
    "    def draw(self):\n",
    "        print('삼각형')\n",
    "        \n",
    "class Rec(Shape):\n",
    "    def draw(self):\n",
    "        print('사각형')\n",
    "        \n",
    "class Cir(Shape):\n",
    "    def draw(self):\n",
    "        print('원형')\n",
    "        \n",
    "class Pan(Shape):\n",
    "    pass\n",
    "        \n",
    "for i in (Tri(), Rec(), Cir(), Pan()):\n",
    "    i.draw()"
   ]
  },
  {
   "cell_type": "markdown",
   "metadata": {},
   "source": [
    "> * Shape라는 클래스를 상속받아 Tri클래스는 삼각형을 출력하고 Rec클래스는 사각형을, Cir클래스는 원형을 출력한다. \n",
    "* 그리고 Pan클래스는 메소드 오버라이드가 안되있으므로 부모 클래스에 있는 도형이 출력된다."
   ]
  },
  {
   "cell_type": "markdown",
   "metadata": {},
   "source": [
    "# 3. 다음 각 요구사항 모두를 만족시키는 Counter 클래스를 코딩하시오 (정답을 각 요구사항별로 입력할 필요 없이 3번 문제에 대해 1개의 클래스 정의 코드를 제시하면 된다.)"
   ]
  },
  {
   "cell_type": "markdown",
   "metadata": {},
   "source": [
    "* 요구사항 1. 생성자에 count 값과 step 값을 인자로 받을 수 있다.\n",
    "    * count: Counter 인스턴스가 지니는 초기 정수 값\n",
    "    * step: Counter 인스턴스의 count가 증가되는 증분 (defalt 값: 1)"
   ]
  },
  {
   "cell_type": "markdown",
   "metadata": {},
   "source": [
    "> \\>>> c = Counter(10)   \n",
    " \\>>> d = Counter(10, 2) "
   ]
  },
  {
   "cell_type": "markdown",
   "metadata": {},
   "source": [
    "* 요구사항 2. 다음과 같이 Counter의 인스턴스를 출력을 해주는 __str__() 메소드를 Counter 클래스 내에 구현하시오."
   ]
  },
  {
   "cell_type": "markdown",
   "metadata": {},
   "source": [
    "> \\>>> print(c)   \n",
    " [Count (step: 1)] 10   \n",
    " \\>>> print(d)   \n",
    " [Count (step: 2)] 10   "
   ]
  },
  {
   "cell_type": "markdown",
   "metadata": {},
   "source": [
    "* 요구사항 3. 다음과 같이 step에 주어진 증분만큼 count를 증가시키는 incr() 메소드를 Counter 클래스 내에 구현하시오."
   ]
  },
  {
   "cell_type": "markdown",
   "metadata": {},
   "source": [
    "> \\>>> c.incr()   \n",
    " \\>>> d.incr()   \n",
    " \\>>> print(c)   \n",
    " [Count (step: 1)] 11   \n",
    " \\>>> print(d)   \n",
    " [Count (step: 2)] 12 "
   ]
  },
  {
   "cell_type": "markdown",
   "metadata": {},
   "source": [
    "* 요구사항 4. Counter 클래스 내에 관련 메소드를 추가하여 인스턴스 객체를 직접 호출(call)할 수 있도록 하시오. 인스턴스 객체를 직접 호출했을 때에 내부적으로 incr() 메소드를 호출하는 방법으로 구현하시오."
   ]
  },
  {
   "cell_type": "markdown",
   "metadata": {},
   "source": [
    "> \\>>> c()   \n",
    " \\>>> d()   \n",
    " \\>>> print(c)   \n",
    " [Count (step: 1)] 12   \n",
    " \\>>> print(d)   \n",
    " [Count (step: 2)] 14 "
   ]
  },
  {
   "cell_type": "markdown",
   "metadata": {},
   "source": [
    "* 요구사항 5. 다음과 같은 두 개의 산술 연산 (+, -)이 수행될 수 있도록 Counter 클래스 내에 관련 메소드를 추가하시오."
   ]
  },
  {
   "cell_type": "markdown",
   "metadata": {},
   "source": [
    "> \\>>> c = c + 5   \n",
    " \\>>> d = d - 5   \n",
    " \\>>> print(c)   \n",
    " [Count (step: 1)] 17   \n",
    " \\>>> print(d)   \n",
    " [Count (step: 2)] 9 "
   ]
  },
  {
   "cell_type": "markdown",
   "metadata": {},
   "source": [
    "* 요구사항 6. 다음과 같은 관계연산 (>, <, ==)이 수행될 수 있도록 Counter 클래스 내에 관련 메소드를 추가하시오."
   ]
  },
  {
   "cell_type": "markdown",
   "metadata": {},
   "source": [
    "> \\>>> print(c > 10)  \n",
    " True   \n",
    " \\>>> print(d > 10)    \n",
    " False   \n",
    " \\>>> print(c < 10)    \n",
    " False   \n",
    " \\>>> print(d < 10)   \n",
    " True   \n",
    " \\>>> print(c == 17)   \n",
    " True   \n",
    " \\>>> print(d != 9)   \n",
    " False   "
   ]
  },
  {
   "cell_type": "code",
   "execution_count": 2,
   "metadata": {},
   "outputs": [],
   "source": [
    "class Counter:\n",
    "    def __init__(self, count, step=1):\n",
    "        self.count = count\n",
    "        self.step = step\n",
    "    \n",
    "    def __str__(self):\n",
    "        return '[Count (step: %s )] %s' % (self.step, self.count)\n",
    "    \n",
    "    def incr(self):\n",
    "        self.count += self.step\n",
    "    \n",
    "    def __call__(self):\n",
    "        self.incr()\n",
    "        \n",
    "    def __add__(self, value):\n",
    "        return Counter(self.count + value)\n",
    "    \n",
    "    def __sub__(self, value):\n",
    "        return Counter(self.count - value)\n",
    "    \n",
    "    def __gt__(self, value):\n",
    "        return self.count > value\n",
    "\n",
    "    def __lt__(self, value):\n",
    "        return self.count < value\n",
    "\n",
    "    def __eq__(self, value):\n",
    "        return self.count == value\n",
    "\n",
    "    def __ne__(self, value):\n",
    "        return self.count != value    "
   ]
  },
  {
   "cell_type": "code",
   "execution_count": 3,
   "metadata": {
    "scrolled": true
   },
   "outputs": [
    {
     "name": "stdout",
     "output_type": "stream",
     "text": [
      "[Count (step: 1 )] 10\n",
      "[Count (step: 2 )] 10\n"
     ]
    }
   ],
   "source": [
    "c = Counter(10)\n",
    "d = Counter(10, 2)\n",
    "print(c)\n",
    "print(d)"
   ]
  },
  {
   "cell_type": "code",
   "execution_count": 4,
   "metadata": {},
   "outputs": [
    {
     "name": "stdout",
     "output_type": "stream",
     "text": [
      "[Count (step: 1 )] 11\n",
      "[Count (step: 2 )] 12\n"
     ]
    }
   ],
   "source": [
    "c.incr()\n",
    "d.incr()\n",
    "print(c)\n",
    "print(d)"
   ]
  },
  {
   "cell_type": "code",
   "execution_count": 5,
   "metadata": {},
   "outputs": [
    {
     "name": "stdout",
     "output_type": "stream",
     "text": [
      "[Count (step: 1 )] 12\n",
      "[Count (step: 2 )] 14\n"
     ]
    }
   ],
   "source": [
    "c()\n",
    "d()\n",
    "print(c)\n",
    "print(d)"
   ]
  },
  {
   "cell_type": "code",
   "execution_count": 6,
   "metadata": {},
   "outputs": [
    {
     "name": "stdout",
     "output_type": "stream",
     "text": [
      "[Count (step: 1 )] 17\n",
      "[Count (step: 1 )] 9\n"
     ]
    }
   ],
   "source": [
    "c = c + 5\n",
    "d = d - 5\n",
    "print(c)\n",
    "print(d)"
   ]
  },
  {
   "cell_type": "code",
   "execution_count": 7,
   "metadata": {},
   "outputs": [
    {
     "name": "stdout",
     "output_type": "stream",
     "text": [
      "True\n",
      "False\n",
      "\n",
      "False\n",
      "True\n",
      "\n",
      "True\n",
      "False\n",
      "\n",
      "False\n",
      "True\n"
     ]
    }
   ],
   "source": [
    "print(c > 10)\n",
    "print(d > 10)\n",
    "print()\n",
    "print(c < 10)\n",
    "print(d < 10)\n",
    "print()\n",
    "print(c == 17)\n",
    "print(d == 17)\n",
    "print()\n",
    "print(c != 17)\n",
    "print(d != 17)"
   ]
  },
  {
   "cell_type": "markdown",
   "metadata": {},
   "source": [
    "# 4. 다음은 내장 자료형 list를 서브클래싱하여 만든 MySet 클래스 정의 내용이다. 다음 클래스 정의에서 __init__(), __str()__(), elimicate_duplicate()의 세 개의 메소드 코드 내용을 자신이 다른 사람에게 가르친다고 생각하며 설명해보시오.\n",
    "* MySet은 집합(Set) 자료형을 정의하려는 의도하에 만들어진 클래스이다.\n"
   ]
  },
  {
   "cell_type": "code",
   "execution_count": 8,
   "metadata": {},
   "outputs": [
    {
     "name": "stdout",
     "output_type": "stream",
     "text": [
      "MySet: {1 ,2 ,3}\n",
      "MySet: {2 ,3 ,4 ,5 ,6 ,7 ,8 ,9}\n"
     ]
    }
   ],
   "source": [
    "class MySet(list):\n",
    "    def __init__(self, l):\n",
    "        for e in l:\n",
    "            self.append(e)\n",
    "        MySet.eliminate_duplicate(self)\n",
    "    \n",
    "    def __str__(self):\n",
    "        result = \"MySet: {\"\n",
    "        for e in self:\n",
    "            result = result + str(e) + \" ,\"\n",
    "        result = result[0:len(result)-2] + \"}\"\n",
    "        return result\n",
    "\n",
    "    @staticmethod    \n",
    "    def eliminate_duplicate(l):\n",
    "        s = []\n",
    "        for e in l:\n",
    "            if e not in s:\n",
    "                s.append(e)\n",
    "        l[:] = []\n",
    "        for e in s:\n",
    "            l.append(e)\n",
    "\n",
    "    \n",
    "if __name__ == \"__main__\":\n",
    "    s = MySet([1, 2, 2, 3])\n",
    "    print(s)\n",
    "    t = MySet([2, 3, 4, 5, 6, 7, 8, 8, 8, 8, 8, 9])\n",
    "    print(t)\n"
   ]
  },
  {
   "cell_type": "markdown",
   "metadata": {},
   "source": [
    "> * \\_\\_init\\_\\_은 생성자 메소드로 객체가 생성될 때 자동으로 불리어지는 메소드이다.\n",
    "* 일반적으로 객체가 보유해야 할 변수나 자원들의 초기화하는 코드를 작성한다.\n",
    "* 그리고 여기에서 self 인자가 정의되어야 한다.\n",
    "* \n",
    "* \\_\\_str\\_\\_은 print예약어나 str() 내장함수 호출에 대응되는 메소드로 객체의 비공식적인 문자열 표현이다. \n",
    "* 이에 따라 사용자가 보기 편한 형태로 자유롭게 표현될 수 있다.\n",
    "* 추가적으로는 공식적인 문자열로는 --repr--이 있는데 이는 eval()함수에 의하여 같은 객체로 재생성 될 수 있는 문자열 표현이다.\n",
    "* \n",
    "* eliminate_duplicate는 리스트를 입력받아 중복되는 값을 지우는 메소드이다.\n",
    "* 이것은 입력받은 리스트를 for문을 이용하여 하나씩 접근하여 빈 리스트 s와 비교하여 s에 없는 값이면 s에 추가해주는 메소드이다."
   ]
  },
  {
   "cell_type": "code",
   "execution_count": 9,
   "metadata": {},
   "outputs": [
    {
     "name": "stdout",
     "output_type": "stream",
     "text": [
      "MySet: {1 ,2 ,3}\n",
      "MySet: {2 ,3 ,4 ,5 ,6 ,7 ,8 ,9}\n"
     ]
    }
   ],
   "source": [
    "class MySet(list):\n",
    "    def __init__(self, l):\n",
    "        for e in l:\n",
    "            self.append(e)\n",
    "        MySet.eliminate_duplicate(self)\n",
    "    \n",
    "    def __str__(self):\n",
    "        result = \"MySet: {\"\n",
    "        for e in self:\n",
    "            result = result + str(e) + \" ,\"\n",
    "        result = result[0:len(result)-2] + \"}\"\n",
    "        return result\n",
    "\n",
    "    @staticmethod    \n",
    "    def eliminate_duplicate(l):\n",
    "        s = []\n",
    "        for e in l:\n",
    "            if e not in s:\n",
    "                s.append(e)\n",
    "        l[:] = []\n",
    "        for e in s:\n",
    "            l.append(e)\n",
    "            \n",
    "    def __or__(self, l):\n",
    "        a = self + l\n",
    "        return MySet(a)\n",
    "    \n",
    "    def __and__(self, l):\n",
    "        b = []        \n",
    "        for i in self:\n",
    "            if i in l:\n",
    "                b.append(i)                   \n",
    "        return MySet(b)\n",
    "    \n",
    "    def __sub__(self, l):\n",
    "        c = []\n",
    "        for i in self:\n",
    "            if i not in l:\n",
    "                c.append(i)                  \n",
    "        return MySet(c)\n",
    "    \n",
    "if __name__ == \"__main__\":\n",
    "    s = MySet([1, 2, 2, 3])\n",
    "    t = MySet([2, 3, 4, 5, 6, 7, 8, 8, 8, 8, 8, 9])\n",
    "   \n",
    "    print(s)\n",
    "    print(t)"
   ]
  },
  {
   "cell_type": "code",
   "execution_count": 10,
   "metadata": {},
   "outputs": [
    {
     "name": "stdout",
     "output_type": "stream",
     "text": [
      "MySet: {1 ,2 ,3 ,4 ,5 ,6 ,7 ,8 ,9}\n"
     ]
    }
   ],
   "source": [
    "u = s | t \n",
    "print(u)"
   ]
  },
  {
   "cell_type": "code",
   "execution_count": 11,
   "metadata": {},
   "outputs": [
    {
     "name": "stdout",
     "output_type": "stream",
     "text": [
      "MySet: {2 ,3}\n"
     ]
    }
   ],
   "source": [
    "u = s & t\n",
    "print(u)"
   ]
  },
  {
   "cell_type": "code",
   "execution_count": 12,
   "metadata": {},
   "outputs": [
    {
     "name": "stdout",
     "output_type": "stream",
     "text": [
      "MySet: {1 ,2}\n"
     ]
    }
   ],
   "source": [
    "s = MySet([1, 2, 3]) \n",
    "t = MySet([3, 4, 5]) \n",
    "u = s - t \n",
    "print(u) "
   ]
  },
  {
   "cell_type": "markdown",
   "metadata": {},
   "source": [
    "> * \\|연산은 \\_\\_or\\_\\_이고 \\&는 \\_\\_and\\_\\_, 그리고 -는 \\_\\_sub\\_\\_로 구현한다.\n",
    "* 먼저 \\_\\_or\\_\\_는 self와 합집합을 하려는 리스트l과 합친 후 그 리스트a로 만들어주고 MySet(a)를 호출하여 리턴해준다.\n",
    "* 그다음 \\_\\_and\\_\\_는 self와 교집합을 하고자 하는 리스트 l과 비교를하여 self에 있는 값이 l에 있으면 그 값을 리스트b에 추가해주어 MySet(b)를 반환한다.\n",
    "* 마지막으로 \\_\\_sub\\_\\_는 self와 차집합을 하려는 리스트 l과 비교하여 self에 있는 값이 l에 없으면 리스트c에 추가하고 MySet(c)를 반환하면 된다."
   ]
  },
  {
   "cell_type": "markdown",
   "metadata": {},
   "source": [
    "# 6. 5번 문제에서 정의한 MySet 클래스에 대해 다음 예제를 수행하면 오류없이 올바르게 동작하는 것을 확인할 수 있다. 다음 예제 내에 있는 len(), bool() 내장함수와 in 키워드 사용 예제가 별다른 메소드 정의를 하지 않았는 데도 올바르게 수행되는 이유를 설명하시오."
   ]
  },
  {
   "cell_type": "markdown",
   "metadata": {},
   "source": [
    "\\>\\>\\> s = MySet([1, 2, 3, 4, 5, 6])  \n",
    "\\>\\>\\> print(len(s))  \n",
    "\\> 6  \n",
    "\\>\\>\\> print(bool(s))  \n",
    "\\> True  \n",
    "\\>\\>\\> print(2 in s)  \n",
    "\\> True  "
   ]
  },
  {
   "cell_type": "code",
   "execution_count": 13,
   "metadata": {},
   "outputs": [
    {
     "name": "stdout",
     "output_type": "stream",
     "text": [
      "6\n",
      "True\n",
      "True\n"
     ]
    }
   ],
   "source": [
    "s = MySet([1, 2, 3, 4, 5, 6])\n",
    "print(len(s))\n",
    "print(bool(s))\n",
    "print(2 in s)"
   ]
  },
  {
   "cell_type": "markdown",
   "metadata": {},
   "source": [
    "> * s는 리스트를 인자로 받아 공통된 인자를 지우는 집합 set과 같은 클래스이다. \n",
    "* 이때 s는 리스트를 인자로 받는 클래스 즉 객체이고 리스트가 연산가능한 메소드 또는 키워드는 리스트를 인자로 받은 객체 또한 올바르게 수행되어야 한다. 따라서 별다른 메소드 정의를 하지 않아도 올바르게 수행이 된다."
   ]
  },
  {
   "cell_type": "markdown",
   "metadata": {},
   "source": [
    "# 7. 이전 Assignment 3 & Assignment 4를 다시 확장/변형하여 다음과 같은 조건을 만족하도록 구현하시오 (CODE REFACTORING!!!)."
   ]
  },
  {
   "cell_type": "markdown",
   "metadata": {},
   "source": [
    "* 1) 새로운 클래스 SearchEngine를 정의하시오.\n",
    "    * 이전 숙제에서 고려했던 pickle 모듈 등은 전혀 고려하지 마시오.\n",
    "        * 즉, 하드디스크에 저장하고 다시 로드하는 기능은 본 숙제에는 배제하시오.\n",
    "\n",
    "    * 이전 숙제에서 적용했던 국어/영어 불용어 처리는 적용하시오. \n"
   ]
  },
  {
   "cell_type": "markdown",
   "metadata": {},
   "source": [
    "* 2) 생성자에 URL을 0개에서 임의의 개수를 넣을 수 있도록 생성자 인수를 가변인수로 정의하여 각각의 URL을 리스트 자료형에 유지하시오."
   ]
  },
  {
   "cell_type": "markdown",
   "metadata": {},
   "source": [
    "> \\>\\>\\> w1 = SearchEngine('http://www.cnn.com', 'http://www.times.com', 'https://www.amazon.com')   \n",
    " \\>\\>\\> w2 = SearchEngine('http://www.cnn.com', 'http://www.times.com')   \n",
    " \\>\\>\\> w3 = SearchEngine()   "
   ]
  },
  {
   "cell_type": "markdown",
   "metadata": {},
   "source": [
    "* 3) addUrl() 메소드를 구현하여 인스턴스를 생성한 이후에도 URL을 추가할 수 있도록 한다.\n",
    "    * 반드시 1개의 URL을 추가하도록 구현 (즉, 동시에 여러 개의 URL을 추가하는 것은 배제)\n"
   ]
  },
  {
   "cell_type": "markdown",
   "metadata": {},
   "source": [
    "> \\>\\>\\> w1.addUrl('https://github.com')  \n",
    " \\>\\>\\> w3.addUrl('http://stackoverflow.com')"
   ]
  },
  {
   "cell_type": "markdown",
   "metadata": {},
   "source": [
    "* 4) removeUrl() 메소드를 구현하여 URL을 삭제할 수 있도록 한다.\n",
    "    * 반드시 1개의 URL을 삭제하도록 구현 (즉, 동시에 여러 개의 URL을 삭제하는 것은 배제) \n"
   ]
  },
  {
   "cell_type": "markdown",
   "metadata": {},
   "source": [
    "> \\>\\>\\> w1.removeUrl('http://www.cnn.com')  \n",
    " \\>\\>\\> w2.removeUrl('http://stackoverflow.com')"
   ]
  },
  {
   "cell_type": "markdown",
   "metadata": {},
   "source": [
    "* 5) listUrls() 메소드를 구현하여 현재 등록된 모든 URL을 출력하는 기능을 추가"
   ]
  },
  {
   "cell_type": "markdown",
   "metadata": {},
   "source": [
    "> \\>\\>\\> w1.listUrls()  \n",
    "http://www.times.com   \n",
    "https://www.amazon.com   \n",
    "https://github.com "
   ]
  },
  {
   "cell_type": "markdown",
   "metadata": {},
   "source": [
    "* 6) getWordsFrequency() 메소드를 구현하여 각 URL의 웹페이지들을 종합적으로 분석한 단어 출현 빈도 사전을 반환하시오.\n",
    "    * 만약 등록된 URL이 없다면 공백 사전을 반환 \n"
   ]
  },
  {
   "cell_type": "markdown",
   "metadata": {},
   "source": [
    "> \\>\\>\\> w1.getWordsFrequency()   \n",
    " {'hello': 8, 'site': 12, 'world': 2, 'science': 11, 'program': 1, 'python': 1}"
   ]
  },
  {
   "cell_type": "markdown",
   "metadata": {},
   "source": [
    "* 7) getMaxFreqencyWords() 메소드를 구현하여 각 URL의 웹페이지들을 종합적으로 분석한 단어 출현 빈도 사전에서 가장 많이 출현한 단어 리스트를 반환하시오."
   ]
  },
  {
   "cell_type": "markdown",
   "metadata": {},
   "source": [
    "> \\>\\>\\> w1.getMaxFreqencyWords()   \n",
    " site "
   ]
  },
  {
   "cell_type": "markdown",
   "metadata": {},
   "source": [
    "    ◾ 최다 출현 단어의 빈도수가 동일한 경우 모두 출력해주어야 함 "
   ]
  },
  {
   "cell_type": "markdown",
   "metadata": {},
   "source": [
    "> \\>\\>\\> w2.getMaxFreqencyWords()   \n",
    " site   \n",
    " science"
   ]
  },
  {
   "cell_type": "markdown",
   "metadata": {},
   "source": [
    "    ◾ 만약 등록된 URL이 없다면 getMaxFreqencyWords()의 반환 값은 None이 되어야 함."
   ]
  },
  {
   "cell_type": "markdown",
   "metadata": {},
   "source": [
    "* 8) 임의의 단어 1개를 파라미터로 받는 searchUrlByWord() 메소드를 구현하여 유사도가 높은 웹 사이트를 출력하시오."
   ]
  },
  {
   "cell_type": "markdown",
   "metadata": {},
   "source": [
    "> \\>\\>\\> w1.searchUrlByWord(\"news\")  \n",
    "http://www.cnn.com "
   ]
  },
  {
   "cell_type": "markdown",
   "metadata": {},
   "source": [
    "    ◾ 파라미터로 받은 단어와 유사도가 동일한 URL이 여러 개이면 해당 URL을 모두 출력하시오. "
   ]
  },
  {
   "cell_type": "code",
   "execution_count": 1,
   "metadata": {},
   "outputs": [],
   "source": [
    "import requests\n",
    "import re\n",
    "import string  \n",
    "\n",
    "class SearchEngine:\n",
    "    def __init__(self, *a):\n",
    "        self.li = []\n",
    "        for i in a:\n",
    "            self.addUrl(i)\n",
    "    \n",
    "    def addUrl(self, url):\n",
    "        if url not in self.li:\n",
    "            self.li.append(url)\n",
    "        else:\n",
    "            print(\"동일한 Url입니다.\")\n",
    "            \n",
    "    def removeUrl(self, url):\n",
    "        if self.li == []:\n",
    "            print(\"list가 비어 있습니다.\")\n",
    "        else:\n",
    "            if url in self.li:\n",
    "                self.li.remove(url)\n",
    "            else:\n",
    "                print(url + \" 을 지울수 없습니다.\")\n",
    "        \n",
    "    def listUrls(self):\n",
    "        if self.li == []:\n",
    "            print(\"비어있습니다.\")\n",
    "        else:\n",
    "            for i in self.li:\n",
    "                print(i)\n",
    "    \n",
    "    def getWordsFrequency(self):\n",
    "        dic = {}\n",
    "        if self.li == []:\n",
    "            print(dic) \n",
    "        else:        \n",
    "            for url in self.li:\n",
    "                dic = self.diction(url)\n",
    "                print(url)\n",
    "                print()\n",
    "                print(dic)\n",
    "                print()\n",
    "    \n",
    "    def diction(self, url):\n",
    "        dic = {}\n",
    "        req = requests.get(url)\n",
    "        source = req.text.lower()\n",
    "        text1 = re.sub('<script.*?>.*?</script>', ' ', source, 0, re.I|re.S)\n",
    "        text2 = re.sub('<style.*?>.*?</style>', ' ', text1, 0, re.I|re.S)\n",
    "        text3 = re.sub('<.+?>', ' ', text2, 0, re.I|re.S)\n",
    "        text4 = re.sub('-->', ' ', text3, 0, re.I|re.S)\n",
    "        text5 = re.sub(\"[!|?|<|>|:|\\[|\\]|#|$|%|&|\\(|\\)|*|+|\\-|,|.|/|;|=|@|^|_|`|{|}|~|\\\"|\\'|\\\\\\|/]\",' ', text4, 0, re.I|re.S)\n",
    "        text6 = re.sub(\"[1|2|3|4|5|6|7|8|9|0]\",' ', text5, 0, re.I|re.S)\n",
    "\n",
    "        del1 = ['about', 'above', 'across', 'after', 'again', 'against', 'all', 'almost', 'alone', 'along', 'already', 'also', 'although', 'always', 'among', 'an', 'and', 'another', 'any', 'anybody', 'anyone', 'anything', 'anywhere', 'are', 'area', 'areas', 'around', 'as', 'ask', 'asked', 'asking', 'asks', 'at', 'away', 'back', 'backed', 'backing', 'backs', 'be', 'became', 'because', 'become', 'becomes', 'been', 'before', 'began', 'behind', 'being', 'beings', 'best', 'better', 'between', 'big', 'both', 'but', 'by', 'came', 'can', 'cannot', 'case', 'cases', 'certain', 'certainly', 'clear', 'clearly', 'come', 'could', 'did', 'differ', 'different', 'differently', 'do', 'does', 'done', 'down', 'down', 'downed', 'downing', 'downs', 'during', 'each', 'early', 'either', 'end', 'ended', 'ending', 'ends', 'enough', 'even', 'evenly', 'ever', 'every', 'everybody', 'everyone', 'everything', 'everywhere', 'face', 'faces', 'fact', 'facts', 'far', 'felt', 'few', 'find', 'finds', 'first', 'for', 'four', 'from', 'full', 'fully', 'further', 'furthered', 'furthering', 'furthers', 'gave', 'general', 'generally', 'get', 'gets', 'give', 'given', 'gives', 'go', 'going', 'good', 'goods', 'got', 'great', 'greater', 'greatest', 'group', 'grouped', 'grouping', 'groups', 'had', 'has', 'have', 'having', 'he', 'her', 'here', 'herself', 'high', 'high', 'high', 'higher', 'highest', 'him', 'himself', 'his', 'how', 'however', 'if', 'important', 'in', 'interest', 'interested', 'interesting', 'interests', 'into', 'is', 'it', 'its', 'itself', 'just', 'keep', 'keeps', 'kind', 'knew', 'know', 'known', 'knows', 'large', 'largely', 'last', 'later', 'latest', 'least', 'less', 'let', 'lets', 'like', 'likely', 'long', 'longer', 'longest', 'made', 'make', 'making', 'man', 'many', 'may', 'me', 'member', 'members', 'men', 'might', 'more', 'most', 'mostly', 'mr', 'mrs', 'much', 'must', 'my', 'myself', 'necessary', 'need', 'needed', 'needing', 'needs', 'never', 'new', 'new', 'newer', 'newest', 'next', 'no', 'nobody', 'non', 'noone', 'not', 'nothing', 'now', 'nowhere', 'number', 'numbers', 'of', 'off', 'often', 'old', 'older', 'oldest', 'on', 'once', 'one', 'only', 'open', 'opened', 'opening', 'opens', 'or', 'order', 'ordered', 'ordering', 'orders', 'other', 'others', 'our', 'out', 'over', 'part', 'parted', 'parting', 'parts', 'per', 'perhaps', 'place', 'places', 'point', 'pointed', 'pointing', 'points', 'possible', 'present', 'presented', 'presenting', 'presents', 'problem', 'problems', 'put', 'puts', 'quite', 'rather', 'really', 'right', 'right', 'room', 'rooms', 'said', 'same', 'saw', 'say', 'says', 'second', 'seconds', 'see', 'seem', 'seemed', 'seeming', 'seems', 'sees', 'several', 'shall', 'she', 'should', 'show', 'showed', 'showing', 'shows', 'side', 'sides', 'since', 'small', 'smaller', 'smallest', 'so', 'some', 'somebody', 'someone', 'something', 'somewhere', 'state', 'states', 'still', 'still', 'such', 'sure', 'take', 'taken', 'than', 'that', 'the', 'their', 'them', 'then', 'there', 'therefore', 'these', 'they', 'thing', 'things', 'think', 'thinks', 'this', 'those', 'though', 'thought', 'thoughts', 'three', 'through', 'thus', 'to', 'today', 'together', 'too', 'took', 'toward', 'turn', 'turned', 'turning', 'turns', 'two', 'under', 'until', 'up', 'upon', 'us', 'use', 'used', 'uses', 'very', 'want', 'wanted', 'wanting', 'wants', 'was', 'way', 'ways', 'we', 'well', 'wells', 'went', 'were', 'what', 'when', 'where', 'whether', 'which', 'while', 'who', 'whole', 'whose', 'why', 'will', 'with', 'within', 'without', 'work', 'worked', 'working', 'works', 'would', 'year', 'years', 'yet', 'you', 'young', 'younger', 'youngest', 'your', 'yours']   \n",
    "        req = requests.get('https://raw.githubusercontent.com/stopwords-iso/stopwords-ko/master/stopwords-ko.txt')\n",
    "        del2 = req.text.lower()   \n",
    "\n",
    "        for i in text6.split():\n",
    "            if i in dic:\n",
    "                dic[i] += 1\n",
    "            else:\n",
    "                dic[i] = 1\n",
    "\n",
    "        for i in del1:\n",
    "            if i in dic:\n",
    "                del dic[i]\n",
    "\n",
    "        for i in del2:\n",
    "            if i in dic:\n",
    "                del dic[i]\n",
    "                \n",
    "        return dic\n",
    "    \n",
    "    def getMaxFreqencyWords(self):   \n",
    "        if(self.li == []):\n",
    "            return None\n",
    "        else:\n",
    "            for url in self.li:\n",
    "                FreqencyWords = []\n",
    "                a = self.diction(url)\n",
    "                b = list(a.values())\n",
    "                b.sort(reverse = True)\n",
    "                print(url)\n",
    "                for i in a: \n",
    "                    if a[i] == b[0]:                \n",
    "                        FreqencyWords.append(i)\n",
    "                print(FreqencyWords)\n",
    "            \n",
    "    def searchUrlByWord(self, word):\n",
    "        countdic = {}\n",
    "        for url in self.li:\n",
    "            count = 0\n",
    "            dic = self.diction(url)\n",
    "            for i in dic:\n",
    "                if i == word:\n",
    "                    if count == 0:\n",
    "                        countdic[url] = 1\n",
    "                    else:\n",
    "                        countdic += 1\n",
    "        \n",
    "        a = list(countdic.values())\n",
    "        a.sort(reverse = True)\n",
    "        for i in countdic: \n",
    "            if countdic[i] == a[0]:\n",
    "                print(i)\n",
    "                    "
   ]
  },
  {
   "cell_type": "code",
   "execution_count": 2,
   "metadata": {},
   "outputs": [
    {
     "name": "stdout",
     "output_type": "stream",
     "text": [
      "http://www.cnn.com\n",
      "http://www.times.com\n",
      "https://www.amazon.com\n",
      "\n",
      "http://www.cnn.com\n",
      "http://www.times.com\n",
      "\n",
      "비어있습니다.\n",
      "\n"
     ]
    }
   ],
   "source": [
    "w1 = SearchEngine('http://www.cnn.com', 'http://www.times.com', 'https://www.amazon.com') \n",
    "w2 = SearchEngine('http://www.cnn.com', 'http://www.times.com') \n",
    "w3 = SearchEngine() \n",
    "\n",
    "w1.listUrls()\n",
    "print()\n",
    "\n",
    "w2.listUrls()\n",
    "print()\n",
    "\n",
    "w3.listUrls()\n",
    "print()\n"
   ]
  },
  {
   "cell_type": "code",
   "execution_count": 3,
   "metadata": {},
   "outputs": [
    {
     "name": "stdout",
     "output_type": "stream",
     "text": [
      "http://www.cnn.com\n",
      "http://www.times.com\n",
      "https://www.amazon.com\n",
      "https://github.com\n",
      "\n",
      "http://www.cnn.com\n",
      "http://www.times.com\n",
      "\n",
      "http://stackoverflow.com\n",
      "\n"
     ]
    }
   ],
   "source": [
    "w1.addUrl('https://github.com')\n",
    "w3.addUrl('http://stackoverflow.com')\n",
    "\n",
    "w1.listUrls()\n",
    "print()\n",
    "\n",
    "w2.listUrls()\n",
    "print()\n",
    "\n",
    "w3.listUrls()\n",
    "print()"
   ]
  },
  {
   "cell_type": "code",
   "execution_count": 4,
   "metadata": {
    "scrolled": true
   },
   "outputs": [
    {
     "name": "stdout",
     "output_type": "stream",
     "text": [
      "http://stackoverflow.com 을 지울수 없습니다.\n",
      "\n",
      "http://www.times.com\n",
      "https://www.amazon.com\n",
      "https://github.com\n",
      "\n",
      "http://www.cnn.com\n",
      "http://www.times.com\n",
      "\n",
      "http://stackoverflow.com\n",
      "\n"
     ]
    }
   ],
   "source": [
    "w1.removeUrl('http://www.cnn.com')\n",
    "w2.removeUrl('http://stackoverflow.com')\n",
    "print()\n",
    "\n",
    "w1.listUrls()\n",
    "print()\n",
    "\n",
    "w2.listUrls()\n",
    "print()\n",
    "\n",
    "w3.listUrls()\n",
    "print()"
   ]
  },
  {
   "cell_type": "code",
   "execution_count": 5,
   "metadata": {
    "scrolled": false
   },
   "outputs": [
    {
     "name": "stdout",
     "output_type": "stream",
     "text": [
      "http://www.times.com\n",
      "\n",
      "{'breaking': 1, 'news': 4, 'world': 5, 'multimedia': 3, 'york': 9, 'times': 8, 'sections': 1, 'search': 1, 'skip': 2, 'content': 1, 'site': 4, 'index': 2, 'english': 1, 'español': 1, '中文': 1, 'chinese': 2, 'subscribe': 2, 'log': 2, 'today’s': 1, 'paper': 3, 'u': 8, 's': 13, 'politics': 6, 'n': 9, 'y': 4, 'business': 5, 'opinion': 10, 'tech': 4, 'science': 4, 'health': 4, 'sports': 4, 'arts': 8, 'books': 4, 'style': 5, 'food': 4, 'travel': 4, 'magazine': 8, 't': 4, 'real': 6, 'estate': 6, 'video': 8, 'listen': 2, '‘the': 2, 'daily’': 1, 'watering': 1, 'democrats’': 1, 'power': 2, 'wisconsin': 1, '‘dealbook’': 1, 'newsletter': 1, 'inside': 1, 'emails': 1, 'facebook': 1, 'you’d': 1, 'read': 1, 'argument’': 1, 'trump': 9, 'a': 31, 'traitor': 1, 'columnists': 3, 'takes': 1, 'china': 4, 'relations': 1, 'xi': 2, 'planned': 1, 'trade': 2, 'truce': 1, 'arrest': 5, 'miles': 1, 'imperiled': 2, 'saturday': 1, 'president': 5, 'met': 1, 'jinping': 1, 'meanwhile': 1, 'top': 2, 'executive': 1, 'detained': 1, 'canada': 1, 'united': 3, 'states’': 1, 'request': 1, 'meng': 1, 'wanzhou': 1, 'technology': 1, 'firm': 1, 'huawei': 1, 'meant': 1, 'warning': 1, 'alleged': 1, 'breaches': 1, 'sanctions': 1, 'iran': 1, 'complicated': 1, 'talks': 3, 'global': 1, 'skepticism': 1, 'huawei’s': 1, 'growing': 1, 'ms': 1, 'meng’s': 1, 'environment': 1, 'friction': 1, 'threatens': 2, 'undercut': 1, 'fight': 1, 'climate': 7, 'change': 3, 'largest': 2, 'carbon': 2, 'footprints': 1, 'economies': 1, 'diplomats': 1, 'meet': 1, 'stakes': 1, 'standoff': 1, 'slow': 1, 'action': 1, 'crucial': 1, 'moment': 2, 'plan': 2, 'roll': 1, 'sage': 2, 'grouse': 2, 'protections': 2, 'expected': 1, 'finalized': 1, 'dan': 1, 'cepeda': 1, 'casper': 1, 'star': 1, 'tribune': 1, 'via': 1, 'associated': 1, 'press': 1, 'plans': 2, 'million': 1, 'acres': 1, 'oil': 1, 'drilling': 2, 'mining': 1, 'stroke': 1, 'strip': 1, 'land': 1, 'step': 1, 'administration': 2, 'experts': 1, 'france’s': 3, '‘yellow': 1, 'vest’': 1, 'protests': 1, 'lesson': 1, 'scientists': 1, 'economists': 1, 'believe': 1, 'taxes': 1, 'reduce': 1, 'fossil': 1, 'fuel': 1, 'dependence': 1, 'question': 1, 'cushion': 1, 'blow': 2, 'vulnerable': 1, 'trump’s': 1, 'bed': 1, 'housekeeper': 1, 'papers': 1, 'president’s': 1, 'jersey': 1, 'golf': 3, 'course': 1, 'undocumented': 1, 'immigrant': 1, 'maid': 1, 'wasn’t': 1, '“we': 1, 'tired': 1, 'abuse': 1, 'insults': 1, 'helping': 1, 'money': 2, 'victorina': 3, 'morales': 3, 'home': 6, 'bound': 2, 'brook': 2, 'j': 4, 'left': 2, 'guatemala': 2, 'illegally': 2, 'entered': 2, 'started': 2, 'national': 2, 'club': 2, 'bedminster': 2, 'christopher': 2, 'gregory': 2, 'name': 1, 'heather': 1, 'nauert': 1, 'department’s': 1, 'spokeswoman': 1, 'succeed': 1, 'nikki': 1, 'haley': 1, 'ambassador': 1, 'considering': 1, 'nominating': 1, 'former': 2, 'attorney': 1, 'william': 1, 'p': 2, 'barr': 1, 'run': 2, 'justice': 1, 'department': 2, 'north': 1, 'carolina': 1, 'republican': 2, 'owes': 2, 'voting': 1, 'operation': 1, 'records': 1, 'campaign': 1, 'mark': 1, 'harris': 3, 'g': 1, 'o': 1, 'nominee': 1, 'house': 2, 'race': 1, 'mired': 1, 'voter': 1, 'fraud': 1, 'allegations': 1, 'consulting': 1, 'controversial': 1, 'operative': 2, 'accused': 1, 'collecting': 1, 'absentee': 1, 'ballots': 1, 'voters': 1, 'potentially': 1, 'illegal': 1, 'effort': 1, 'tip': 1, 'election': 1, 'pastor': 1, 'politician': 1, 'favorite': 1, 'christian': 1, 'senator': 1, 'joe': 1, 'manchin': 1, 'iii': 1, 'west': 1, 'virginia': 1, 'democrat': 1, 'energy': 1, 'post': 1, 'support': 1, 'coal': 1, 'drawn': 1, 'fire': 1, 'jobs': 3, 'i': 1, 'talent': 1, 'scout': 1, 'unorthodox': 1, 'hires': 1, 'maybe': 1, 'lower': 2, 'pay': 2, 'form': 1, 'artificial': 1, 'intelligence': 1, 'surface': 1, 'job': 2, 'candidates': 2, 'attributes': 1, 'perfect': 1, 'fit': 1, 'conventional': 1, 'credentials': 1, 'help': 3, 'there’s': 1, 'potential': 1, 'downside': 1, 'wages': 1, 'fields': 1, 'according': 1, 'economist': 1, 'mengxin': 1, 'li': 1, 'labor': 1, 'release': 1, 'figures': 1, 'november': 1, 'm': 2, 'eastern': 1, 'here’s': 1, 'watch': 1, 'city': 2, 'foster': 2, 'children': 1, 'running': 1, 'lead': 1, 'handcuffs': 1, 'crime': 1, 'care': 1, 'family': 2, 'court': 2, 'hearings': 1, 'week': 1, 'getting': 1, 'warrants': 1, 'jasmine': 1, 'children’s’': 1, 'services': 3, 'issued': 1, 'warrant': 1, 'elizabeth': 1, 'd': 1, 'herman': 1, 'oliver': 1, 'nachtwey': 1, 'doesn’t': 1, 'matter': 1, 'replaces': 1, 'merkel': 1, 'germany': 1, 'broken': 1, 'erosion': 1, 'country’s': 1, 'postwar': 1, 'created': 1, 'populace': 1, 'messages': 1, 'movements': 1, 'previously': 1, 'banished': 1, 'fringes': 1, 'sylvie': 1, 'kauffmann': 1, 'macron’s': 1, 'truth': 1, 'weeks': 1, 'violent': 1, 'protest': 1, 'angry': 1, 'poor': 1, 'testing': 1, 'promised': 1, 'people': 1, 'reform': 1, 'failed': 1, 'govern': 1, 'jessica': 1, 'powell': 1, 'banning': 1, 'pornography': 1, 'tumblr': 1, 'editorial': 1, 'board': 1, 'call': 1, 'albany’s': 1, 'committee': 1, 'charles': 1, 'efforts': 1, 'democracy': 1, 'paul': 1, 'krugman': 1, 'art': 3, 'imaginary': 1, 'deal': 1, 'susan': 1, 'antilla': 1, 'metoo': 1, 'investigations': 1, 'wrong': 1, 'bret': 1, 'stephens': 1, 'combustible': 1, 'abbe': 1, 'r': 1, 'gluck': 1, 'erica': 1, 'turret': 1, 'ticking': 1, 'time': 1, 'bomb': 1, 'obamacare': 1, 'confidence': 1, 'learned': 1, 'linda': 1, 'greenhouse': 1, 'supreme': 1, 'choices': 2, 'editors’': 1, 'picks': 1, 'obama': 2, 'robinson': 1, 'archives': 1, 'isabel': 1, 'wilkerson': 1, 'michelle': 1, 'migration': 1, 'lady’s': 1, 'memoir': 1, '“becoming': 1, 'recounts': 1, 'insight': 1, 'candor': 1, 'wit': 1, 'family’s': 1, 'trajectory': 1, 'improbable': 1, 'path': 1, 'white': 1, 'book': 1, 'review': 3, 'normal': 1, 'it’s': 1, 'buyer’s': 1, 'market': 3, 'luxury': 1, 'funk': 1, 'rest': 1, 'weakening': 1, 'price': 1, 'cuts': 1, 'sweeteners': 1, 'pop': 1, 'yoga': 1, 'classes': 1, 'modern': 1, 'love': 2, 'boyfriend': 1, 'joins': 1, 'marriage': 1, 'agreed': 1, 'sex': 1, 'didn’t': 1, 'fell': 1, 'we’d': 1, 'page': 3, 'experience': 1, 'obituaries': 2, 'upshot': 2, 'x': 6, 'corrections': 2, 'op': 4, 'ed': 4, 'editorials': 2, 'contributors': 2, 'letters': 2, 'sunday': 2, 'amp': 5, 'design': 2, 'dance': 2, 'movies': 2, 'music': 2, 'television': 2, 'theater': 2, 'watching': 2, 'living': 2, 'automobiles': 2, 'crossword': 3, 'cooking': 3, 'education': 3, 'weddings': 2, 'listings': 1, 'reader': 2, 'center': 2, 'wirecutter': 2, 'learning': 2, 'network': 2, 'tools': 2, 'c': 2, 'events': 2, 'guide': 2, 'photography': 2, 'nyt': 2, 'store': 2, 'journeys': 2, 'manage': 2, 'account': 2, 'delivery': 1, 'digital': 1, 'subscriptions': 3, 'email': 1, 'newsletters': 1, 'corporate': 1, 'rate': 1, 'mobile': 1, 'applications': 1, 'replica': 1, 'edition': 1, 'information': 1, 'navigation': 1, '©': 1, 'company': 1, 'contact': 1, 'advertise': 1, 'ad': 1, 'privacy': 1, 'terms': 2, 'service': 1, 'sale': 1, 'map': 1}\n",
      "\n",
      "https://www.amazon.com\n",
      "\n",
      "{'robot': 2, 'check': 1, 'enter': 1, 'characters': 2, 'below': 1, 'sorry': 1, 're': 1, 'a': 1, 'results': 1, 'please': 1, 'browser': 1, 'accepting': 1, 'cookies': 1, 'type': 1, 'image': 2, 'try': 1, 'continue': 1, 'shopping': 1, 'conditions': 1, 'privacy': 1, 'policy': 1, 'copy': 1, 'amazon': 1, 'com': 1, 'inc': 1, 'affiliates': 1}\n",
      "\n",
      "https://github.com\n",
      "\n",
      "{'world’s': 3, 'leading': 1, 'software': 5, 'development': 3, 'platform': 4, 'github': 37, 'skip': 1, 'content': 1, 'sign': 9, 'nbsp': 9, 'features': 2, 'rarr': 15, 'code': 11, 'review': 3, 'project': 3, 'management': 4, 'integrations': 5, 'team': 4, 'social': 1, 'coding': 1, 'documentation': 2, 'hosting': 4, 'studies': 2, 'security': 5, 'business': 4, 'explore': 2, 'learn': 6, 'amp': 1, 'contribute': 1, 'topics': 1, 'collections': 1, 'trending': 1, 'learning': 1, 'lab': 1, 'source': 3, 'guides': 1, 'connect': 1, 'events': 1, 'community': 5, 'forum': 2, 'education': 2, 'marketplace': 3, 'pricing': 2, 'plans': 3, 'developer': 3, 'cloud': 4, 'enterprise': 4, 'compare': 2, 'nonprofit': 1, 'search': 3, '↵': 6, 'jump': 4, 'suggested': 1, 'results': 1, 'built': 1, 'developers': 7, 'a': 13, 'inspired': 1, 'host': 2, 'manage': 2, 'projects': 4, 'build': 5, 'alongside': 3, 'million': 2, 'username': 2, 'email': 2, 'password': 3, 's': 1, 'characters': 2, 'including': 1, 'lowercase': 1, 'letter': 1, 'read': 1, 'safer': 1, 'practices': 1, 'clicking': 2, 'ldquo': 2, 'rdquo': 2, 'agree': 2, 'terms': 3, 'service': 2, 'privacy': 3, 'statement': 2, 'we’ll': 2, 'occasionally': 2, 'send': 2, 'account': 3, 'related': 2, 'emails': 2, 'try': 2, 'premises': 1, 'own': 2, 'servers': 2, 'private': 2, 'improve': 2, 'efficiency': 1, 'flexible': 2, 'deployment': 1, 'options': 2, 'centralized': 1, 'permissions': 2, 'hundreds': 1, 'technical': 1, 'support': 3, 'contact': 3, 'sales': 2, 'start': 2, 'free': 2, 'trial': 1, 'businesses': 5, 'organizations': 2, 'teams': 3, 'brings': 1, 'move': 1, 'ideas': 1, 'forward': 1, 'write': 1, 'collaboration': 1, 'makes': 1, 'perfect': 1, 'conversations': 1, 'reviews': 1, 'happen': 2, 'pull': 1, 'requests': 1, 'help': 4, 'share': 2, 'weight': 1, 'chaos': 1, 'deep': 1, 'breath': 1, 'happens': 1, 'issues': 1, 'mention': 1, 'teammate': 1, 'involved': 1, 'tools': 3, 'browse': 2, 'buy': 1, 'apps': 2, 'discover': 2, 'favorites—then': 1, 'using': 3, 'minutes': 1, 'administration': 1, 'boxes': 1, 'check': 1, 'worry': 1, 'administrative': 1, 'don’t': 1, 'authentication': 2, 'meet': 1, 'team’s': 1, 'requirements': 1, 'prevent': 1, 'protected': 1, 'branches': 1, 'signed': 3, 'commits': 1, 'required': 1, 'status': 2, 'checks': 1, 'protect': 1, 'maintain': 2, 'standard': 1, 'access': 2, 'controlled': 1, 'encourage': 1, 'limiting': 1, 'granular': 1, 'saml': 1, 'sso': 1, 'ldap': 1, 'clr': 1, 'hosted': 1, 'securely': 2, 'reliably': 1, 'com': 1, 'deploy': 1, 'amazon': 1, 'web': 1, 'services': 1, 'azure': 1, 'google': 1, 'information': 1, 'customize': 1, 'process': 2, 'intuitive': 1, 'api': 2, 'integrate': 1, 'favorites': 1, 'create': 2, 'happier': 1, 'efficient': 1, 'sometimes': 1, 'there’s': 2, 'tool': 1, 'job': 1, 'welcome': 1, 'home': 2, 'largest': 2, 'ariya': 1, 'hidayat': 1, 'phantomjs': 1, 'maintainer': 5, 'russell': 1, 'keith': 1, 'magee': 1, 'pybee': 1, 'mailchimp': 1, 'marketing': 1, 'customer': 2, 'kris': 1, 'nova': 1, 'kubernetes': 2, 'kops': 1, 'evan': 1, 'vue': 1, 'mapbox': 1, 'jess': 1, 'frazelle': 1, 'previously': 1, 'docker': 1, 'you’re': 1, 'commit': 1, 'sending': 1, 'rover': 1, 'mars': 1, 'm': 3, 'repositories': 1, 'worldwide': 3, 'github’s': 1, 'users': 1, 'influential': 1, 'technologies': 1, 'personal': 1, 'experimenting': 1, 'programming': 1, 'languages': 1, 'life’s': 1, 'sizes': 1, 'november': 1, 'started': 1, 'mdash': 1, 'join': 1, 'millions': 1, 'amazing': 1, 'product': 1, 'resources': 1, 'partners': 1, 'atom': 1, 'electron': 1, 'desktop': 1, 'training': 1, 'company': 1, 'blog': 1, 'careers': 1, 'press': 2, 'shop': 1, 'copy': 1, 'inc': 1, 'can’t': 1, 'perform': 1, 'action': 1, 'time': 1, 'tab': 2, 'window': 2, 'reload': 2, 'refresh': 2, 'session': 2, 'h': 1, 'hovercard': 1, 'details': 1}\n",
      "\n"
     ]
    }
   ],
   "source": [
    "w1.getWordsFrequency() "
   ]
  },
  {
   "cell_type": "code",
   "execution_count": 6,
   "metadata": {
    "scrolled": true
   },
   "outputs": [
    {
     "name": "stdout",
     "output_type": "stream",
     "text": [
      "http://www.times.com\n",
      "['a']\n",
      "https://www.amazon.com\n",
      "['robot', 'characters', 'image']\n",
      "https://github.com\n",
      "['github']\n"
     ]
    }
   ],
   "source": [
    "w1.getMaxFreqencyWords() "
   ]
  },
  {
   "cell_type": "code",
   "execution_count": 7,
   "metadata": {},
   "outputs": [
    {
     "name": "stdout",
     "output_type": "stream",
     "text": [
      "http://www.times.com\n"
     ]
    }
   ],
   "source": [
    "w1.searchUrlByWord(\"news\")"
   ]
  },
  {
   "cell_type": "markdown",
   "metadata": {},
   "source": [
    "> * \\_\\_innit\\_\\_은 URL을 리스트형태로 저장하고 있는 변수 li를 초기화해주고 가변인수로 받은 URL을 li에 addUrl함수를 이용하여 저장한다.\n",
    "* addUrl은 인자로 받은 url이 비어있으면 \"동일한 Url입니다.\"문구를 출력하고 Url이 있으면 li리스트에 추가한다.\n",
    "* removeUrl은 리스트li가 비어있으면 \"list가 비어 있습니다.\"라는 문구를 출력하고 아니면 인자로 받은 url을 리스트li와 비교하여 li안에 url이 있으면 제거하고 없으면 url + \" 을 지울수 없습니다.\"라는 문구를 출력한다.\n",
    "* listUrls은 리스트li를 출력한다. 만약 비어있으면 \"비어있습니다.\"문구를 출력한다.\n",
    "* diction는 인자로 받은 url사이트를 파싱한 후 불용어를 제거하고 사전형식으로 반환한다.\n",
    "* getWordsFrequency는 리스트li가 비어있으면 비어있는 사전객체를 출력하고 그렇지 않으면 li에 있는 Url을 diction는함수를 호출하여 dic라는 사전객체에 저장하여 출력한다.\n",
    "* getMaxFreqencyWords는 리스트li가 비어있으면 None객체를 반환하고 그렇지 않으면 각 Url의 최다 출현 단어의 빈도수가 동일한 모든 단어를 출력해준다.\n",
    "* 이는 각 Url을 diction함수를 호출하여 사전객체로 만들어준 뒤 이를 a에 저장한다. \n",
    "* 그리고 사전객체a의 value값을 list형식으로 만들어준뒤 sort내장함수의 인자reverse를 True로 하여 내림차순으로 정렬한다.\n",
    "* 이때 내림차순된 b의 첫번째인자가 가장 많이 출현한 단어의 빈도수이므로 사전객체의 value값중에서 b[0]와 같은 단어를 모두 출력한다.\n",
    "* searchUrlByWord는 인자로 받은 word가 가장 많이 출현하는 사이트를 반환한다.\n",
    "* 우선 리스트li의 각 Url을 diction함수를 호출하여 사전객체countdic에 Url과 출현빈도를 저장한다. 그리고 countdic의 value값을 sort하여 가장 많이 등장한 사이트를 단환한다."
   ]
  },
  {
   "cell_type": "markdown",
   "metadata": {},
   "source": [
    "# 8. 위 7번 문제에서 정의한 SearchEngine 클래스를 상속하여 SearchEngineWithOrderedWebWords 클래스를 정의하고 슈퍼클래스에 정의된 getWordsFrequency() 메소드를 오버라이드하여 단어 출현 빈도를 내림 차순으로 정렬하여 리스트로 출력하시오."
   ]
  },
  {
   "cell_type": "markdown",
   "metadata": {},
   "source": [
    "* 리스트 내의 각 원소는 단어와 빈도를 쌍으로 지니는 튜플이다.\n",
    "\n",
    "* getWordFrequence() 메소드에 reverse 라는 인자를 만들고 true 또는 false를 인자로 받을 수 있도록 한다.\n",
    "    * reverse 인자의 디폴트 값은 false 이며, 기본적으로 내림차순으로 정렬한다.\n",
    "    * reverse 인자에 true를 넣으면 오름차순으로 정렬한다.\n",
    "\n"
   ]
  },
  {
   "cell_type": "markdown",
   "metadata": {},
   "source": [
    "> \\>\\>\\> w4 = SearchEngineWithOrderedWebWords('http://www.times.com', 'https://www.amazon.com', 'https://github.com')  \n",
    "\\>\\>\\> w4.getWordsFrequency()  \n",
    " [('site', 12), ('science', 11), ('hello', 8), ('world', 2), ('program', 1), ('python', 1)]  \n",
    "\\>\\>\\> w4.getWordsFrequency(reverse=true)  \n",
    " [('program', 1), ('python', 1), ('world', 2), ('hello', 8), ('science', 11), ('site', 12)]  \n"
   ]
  },
  {
   "cell_type": "code",
   "execution_count": 52,
   "metadata": {},
   "outputs": [],
   "source": [
    "class SearchEngineWithOrderedWebWords(SearchEngine):     \n",
    "    def getWordsFrequency(self, reverse = False):\n",
    "        dic = {}\n",
    "        flist=[]\n",
    "        if reverse == False:\n",
    "            if self.li == []:\n",
    "                print(dic) \n",
    "            else:        \n",
    "                for url in self.li:\n",
    "                    dic = self.diction(url)\n",
    "                    a = list(dic.values())\n",
    "                    a.sort()\n",
    "                    \n",
    "                    print(url)\n",
    "                    print()\n",
    "                    for i in set(a):\n",
    "                        for j in dic:\n",
    "                            if i == dic[j]:\n",
    "                                flist.append((j, i))\n",
    "                    print(flist)\n",
    "                    flist = []\n",
    "                    print()\n",
    "        elif reverse == True:\n",
    "            if self.li == []:\n",
    "                print(dic) \n",
    "            else:  \n",
    "                for url in self.li:\n",
    "                    dic = self.diction(url)\n",
    "                    a = list(dic.values())\n",
    "                    a.sort(reverse = True)\n",
    "                    \n",
    "                    print(url)\n",
    "                    print()\n",
    "                    for i in list(set(a))[::-1]:\n",
    "                        for j in dic:\n",
    "                            if i == dic[j]:\n",
    "                                flist.append((j, i))\n",
    "                    print(flist)\n",
    "                    flist = []\n",
    "                    print()\n",
    "                "
   ]
  },
  {
   "cell_type": "code",
   "execution_count": 53,
   "metadata": {},
   "outputs": [
    {
     "name": "stdout",
     "output_type": "stream",
     "text": [
      "http://www.times.com\n",
      "https://www.amazon.com\n",
      "https://github.com\n",
      "\n"
     ]
    }
   ],
   "source": [
    "w4 = SearchEngineWithOrderedWebWords('http://www.times.com', 'https://www.amazon.com', 'https://github.com')\n",
    "    \n",
    "w4.listUrls()\n",
    "print()"
   ]
  },
  {
   "cell_type": "code",
   "execution_count": 54,
   "metadata": {
    "scrolled": false
   },
   "outputs": [
    {
     "name": "stdout",
     "output_type": "stream",
     "text": [
      "http://www.times.com\n",
      "\n",
      "[('breaking', 1), ('sections', 1), ('search', 1), ('content', 1), ('english', 1), ('español', 1), ('中文', 1), ('today’s', 1), ('daily’', 1), ('watering', 1), ('democrats’', 1), ('wisconsin', 1), ('‘dealbook’', 1), ('newsletter', 1), ('inside', 1), ('emails', 1), ('facebook', 1), ('you’d', 1), ('read', 1), ('argument’', 1), ('traitor', 1), ('takes', 1), ('relations', 1), ('planned', 1), ('truce', 1), ('miles', 1), ('saturday', 1), ('met', 1), ('jinping', 1), ('meanwhile', 1), ('executive', 1), ('detained', 1), ('canada', 1), ('states’', 1), ('request', 1), ('meng', 1), ('wanzhou', 1), ('technology', 1), ('firm', 1), ('huawei', 1), ('meant', 1), ('warning', 1), ('alleged', 1), ('breaches', 1), ('sanctions', 1), ('iran', 1), ('complicated', 1), ('global', 1), ('skepticism', 1), ('huawei’s', 1), ('growing', 1), ('ms', 1), ('meng’s', 1), ('environment', 1), ('friction', 1), ('undercut', 1), ('fight', 1), ('footprints', 1), ('economies', 1), ('diplomats', 1), ('meet', 1), ('stakes', 1), ('standoff', 1), ('slow', 1), ('action', 1), ('crucial', 1), ('roll', 1), ('expected', 1), ('finalized', 1), ('dan', 1), ('cepeda', 1), ('casper', 1), ('star', 1), ('tribune', 1), ('via', 1), ('associated', 1), ('press', 1), ('million', 1), ('acres', 1), ('oil', 1), ('mining', 1), ('stroke', 1), ('strip', 1), ('land', 1), ('step', 1), ('experts', 1), ('‘yellow', 1), ('vest’', 1), ('protests', 1), ('lesson', 1), ('scientists', 1), ('economists', 1), ('believe', 1), ('taxes', 1), ('reduce', 1), ('fossil', 1), ('fuel', 1), ('dependence', 1), ('question', 1), ('cushion', 1), ('vulnerable', 1), ('trump’s', 1), ('bed', 1), ('housekeeper', 1), ('papers', 1), ('president’s', 1), ('jersey', 1), ('course', 1), ('undocumented', 1), ('immigrant', 1), ('maid', 1), ('wasn’t', 1), ('“we', 1), ('tired', 1), ('abuse', 1), ('insults', 1), ('helping', 1), ('name', 1), ('heather', 1), ('nauert', 1), ('department’s', 1), ('spokeswoman', 1), ('succeed', 1), ('nikki', 1), ('haley', 1), ('ambassador', 1), ('considering', 1), ('nominating', 1), ('attorney', 1), ('william', 1), ('barr', 1), ('justice', 1), ('north', 1), ('carolina', 1), ('voting', 1), ('operation', 1), ('records', 1), ('campaign', 1), ('mark', 1), ('g', 1), ('o', 1), ('nominee', 1), ('race', 1), ('mired', 1), ('voter', 1), ('fraud', 1), ('allegations', 1), ('consulting', 1), ('controversial', 1), ('accused', 1), ('collecting', 1), ('absentee', 1), ('ballots', 1), ('voters', 1), ('potentially', 1), ('illegal', 1), ('effort', 1), ('tip', 1), ('election', 1), ('pastor', 1), ('politician', 1), ('favorite', 1), ('christian', 1), ('senator', 1), ('joe', 1), ('manchin', 1), ('iii', 1), ('west', 1), ('virginia', 1), ('democrat', 1), ('energy', 1), ('post', 1), ('support', 1), ('coal', 1), ('drawn', 1), ('fire', 1), ('i', 1), ('talent', 1), ('scout', 1), ('unorthodox', 1), ('hires', 1), ('maybe', 1), ('form', 1), ('artificial', 1), ('intelligence', 1), ('surface', 1), ('attributes', 1), ('perfect', 1), ('fit', 1), ('conventional', 1), ('credentials', 1), ('there’s', 1), ('potential', 1), ('downside', 1), ('wages', 1), ('fields', 1), ('according', 1), ('economist', 1), ('mengxin', 1), ('li', 1), ('labor', 1), ('release', 1), ('figures', 1), ('november', 1), ('eastern', 1), ('here’s', 1), ('watch', 1), ('children', 1), ('running', 1), ('lead', 1), ('handcuffs', 1), ('crime', 1), ('care', 1), ('hearings', 1), ('week', 1), ('getting', 1), ('warrants', 1), ('jasmine', 1), ('children’s’', 1), ('issued', 1), ('warrant', 1), ('elizabeth', 1), ('d', 1), ('herman', 1), ('oliver', 1), ('nachtwey', 1), ('doesn’t', 1), ('matter', 1), ('replaces', 1), ('merkel', 1), ('germany', 1), ('broken', 1), ('erosion', 1), ('country’s', 1), ('postwar', 1), ('created', 1), ('populace', 1), ('messages', 1), ('movements', 1), ('previously', 1), ('banished', 1), ('fringes', 1), ('sylvie', 1), ('kauffmann', 1), ('macron’s', 1), ('truth', 1), ('weeks', 1), ('violent', 1), ('protest', 1), ('angry', 1), ('poor', 1), ('testing', 1), ('promised', 1), ('people', 1), ('reform', 1), ('failed', 1), ('govern', 1), ('jessica', 1), ('powell', 1), ('banning', 1), ('pornography', 1), ('tumblr', 1), ('editorial', 1), ('board', 1), ('call', 1), ('albany’s', 1), ('committee', 1), ('charles', 1), ('efforts', 1), ('democracy', 1), ('paul', 1), ('krugman', 1), ('imaginary', 1), ('deal', 1), ('susan', 1), ('antilla', 1), ('metoo', 1), ('investigations', 1), ('wrong', 1), ('bret', 1), ('stephens', 1), ('combustible', 1), ('abbe', 1), ('r', 1), ('gluck', 1), ('erica', 1), ('turret', 1), ('ticking', 1), ('time', 1), ('bomb', 1), ('obamacare', 1), ('confidence', 1), ('learned', 1), ('linda', 1), ('greenhouse', 1), ('supreme', 1), ('editors’', 1), ('picks', 1), ('robinson', 1), ('archives', 1), ('isabel', 1), ('wilkerson', 1), ('michelle', 1), ('migration', 1), ('lady’s', 1), ('memoir', 1), ('“becoming', 1), ('recounts', 1), ('insight', 1), ('candor', 1), ('wit', 1), ('family’s', 1), ('trajectory', 1), ('improbable', 1), ('path', 1), ('white', 1), ('book', 1), ('normal', 1), ('it’s', 1), ('buyer’s', 1), ('luxury', 1), ('funk', 1), ('rest', 1), ('weakening', 1), ('price', 1), ('cuts', 1), ('sweeteners', 1), ('pop', 1), ('yoga', 1), ('classes', 1), ('modern', 1), ('boyfriend', 1), ('joins', 1), ('marriage', 1), ('agreed', 1), ('sex', 1), ('didn’t', 1), ('fell', 1), ('we’d', 1), ('experience', 1), ('listings', 1), ('delivery', 1), ('digital', 1), ('email', 1), ('newsletters', 1), ('corporate', 1), ('rate', 1), ('mobile', 1), ('applications', 1), ('replica', 1), ('edition', 1), ('information', 1), ('navigation', 1), ('©', 1), ('company', 1), ('contact', 1), ('advertise', 1), ('ad', 1), ('privacy', 1), ('service', 1), ('sale', 1), ('map', 1), ('skip', 2), ('index', 2), ('chinese', 2), ('subscribe', 2), ('log', 2), ('listen', 2), ('‘the', 2), ('power', 2), ('xi', 2), ('trade', 2), ('imperiled', 2), ('top', 2), ('threatens', 2), ('largest', 2), ('carbon', 2), ('moment', 2), ('plan', 2), ('sage', 2), ('grouse', 2), ('protections', 2), ('plans', 2), ('drilling', 2), ('administration', 2), ('blow', 2), ('money', 2), ('bound', 2), ('brook', 2), ('left', 2), ('guatemala', 2), ('illegally', 2), ('entered', 2), ('started', 2), ('national', 2), ('club', 2), ('bedminster', 2), ('christopher', 2), ('gregory', 2), ('former', 2), ('p', 2), ('run', 2), ('department', 2), ('republican', 2), ('owes', 2), ('house', 2), ('operative', 2), ('lower', 2), ('pay', 2), ('job', 2), ('candidates', 2), ('m', 2), ('city', 2), ('foster', 2), ('family', 2), ('court', 2), ('choices', 2), ('obama', 2), ('love', 2), ('obituaries', 2), ('upshot', 2), ('corrections', 2), ('editorials', 2), ('contributors', 2), ('letters', 2), ('sunday', 2), ('design', 2), ('dance', 2), ('movies', 2), ('music', 2), ('television', 2), ('theater', 2), ('watching', 2), ('living', 2), ('automobiles', 2), ('weddings', 2), ('reader', 2), ('center', 2), ('wirecutter', 2), ('learning', 2), ('network', 2), ('tools', 2), ('c', 2), ('events', 2), ('guide', 2), ('photography', 2), ('nyt', 2), ('store', 2), ('journeys', 2), ('manage', 2), ('account', 2), ('terms', 2), ('multimedia', 3), ('paper', 3), ('columnists', 3), ('united', 3), ('talks', 3), ('change', 3), ('france’s', 3), ('golf', 3), ('victorina', 3), ('morales', 3), ('harris', 3), ('jobs', 3), ('help', 3), ('services', 3), ('art', 3), ('review', 3), ('market', 3), ('page', 3), ('crossword', 3), ('cooking', 3), ('education', 3), ('subscriptions', 3), ('news', 4), ('site', 4), ('y', 4), ('tech', 4), ('science', 4), ('health', 4), ('sports', 4), ('books', 4), ('food', 4), ('travel', 4), ('t', 4), ('china', 4), ('j', 4), ('op', 4), ('ed', 4), ('world', 5), ('business', 5), ('style', 5), ('arrest', 5), ('president', 5), ('amp', 5), ('politics', 6), ('real', 6), ('estate', 6), ('home', 6), ('x', 6), ('climate', 7), ('times', 8), ('u', 8), ('arts', 8), ('magazine', 8), ('video', 8), ('york', 9), ('n', 9), ('trump', 9), ('opinion', 10), ('s', 13), ('a', 31)]\n",
      "\n",
      "https://www.amazon.com\n",
      "\n",
      "[('check', 1), ('enter', 1), ('below', 1), ('sorry', 1), ('re', 1), ('a', 1), ('results', 1), ('please', 1), ('browser', 1), ('accepting', 1), ('cookies', 1), ('type', 1), ('try', 1), ('continue', 1), ('shopping', 1), ('conditions', 1), ('privacy', 1), ('policy', 1), ('copy', 1), ('amazon', 1), ('com', 1), ('inc', 1), ('affiliates', 1), ('robot', 2), ('characters', 2), ('image', 2)]\n",
      "\n",
      "https://github.com\n",
      "\n",
      "[('leading', 1), ('skip', 1), ('content', 1), ('social', 1), ('coding', 1), ('amp', 1), ('contribute', 1), ('topics', 1), ('collections', 1), ('trending', 1), ('learning', 1), ('lab', 1), ('guides', 1), ('connect', 1), ('events', 1), ('nonprofit', 1), ('suggested', 1), ('results', 1), ('built', 1), ('inspired', 1), ('s', 1), ('including', 1), ('lowercase', 1), ('letter', 1), ('read', 1), ('safer', 1), ('practices', 1), ('premises', 1), ('efficiency', 1), ('deployment', 1), ('centralized', 1), ('hundreds', 1), ('technical', 1), ('trial', 1), ('brings', 1), ('move', 1), ('ideas', 1), ('forward', 1), ('write', 1), ('collaboration', 1), ('makes', 1), ('perfect', 1), ('conversations', 1), ('reviews', 1), ('pull', 1), ('requests', 1), ('weight', 1), ('chaos', 1), ('deep', 1), ('breath', 1), ('happens', 1), ('issues', 1), ('mention', 1), ('teammate', 1), ('involved', 1), ('buy', 1), ('favorites—then', 1), ('minutes', 1), ('administration', 1), ('boxes', 1), ('check', 1), ('worry', 1), ('administrative', 1), ('don’t', 1), ('meet', 1), ('team’s', 1), ('requirements', 1), ('prevent', 1), ('protected', 1), ('branches', 1), ('commits', 1), ('required', 1), ('checks', 1), ('protect', 1), ('standard', 1), ('controlled', 1), ('encourage', 1), ('limiting', 1), ('granular', 1), ('saml', 1), ('sso', 1), ('ldap', 1), ('clr', 1), ('hosted', 1), ('reliably', 1), ('com', 1), ('deploy', 1), ('amazon', 1), ('web', 1), ('services', 1), ('azure', 1), ('google', 1), ('information', 1), ('customize', 1), ('intuitive', 1), ('integrate', 1), ('favorites', 1), ('happier', 1), ('efficient', 1), ('sometimes', 1), ('tool', 1), ('job', 1), ('welcome', 1), ('ariya', 1), ('hidayat', 1), ('phantomjs', 1), ('russell', 1), ('keith', 1), ('magee', 1), ('pybee', 1), ('mailchimp', 1), ('marketing', 1), ('kris', 1), ('nova', 1), ('kops', 1), ('evan', 1), ('vue', 1), ('mapbox', 1), ('jess', 1), ('frazelle', 1), ('previously', 1), ('docker', 1), ('you’re', 1), ('commit', 1), ('sending', 1), ('rover', 1), ('mars', 1), ('repositories', 1), ('github’s', 1), ('users', 1), ('influential', 1), ('technologies', 1), ('personal', 1), ('experimenting', 1), ('programming', 1), ('languages', 1), ('life’s', 1), ('sizes', 1), ('november', 1), ('started', 1), ('mdash', 1), ('join', 1), ('millions', 1), ('amazing', 1), ('product', 1), ('resources', 1), ('partners', 1), ('atom', 1), ('electron', 1), ('desktop', 1), ('training', 1), ('company', 1), ('blog', 1), ('careers', 1), ('shop', 1), ('copy', 1), ('inc', 1), ('can’t', 1), ('perform', 1), ('action', 1), ('time', 1), ('h', 1), ('hovercard', 1), ('details', 1), ('features', 2), ('documentation', 2), ('studies', 2), ('explore', 2), ('forum', 2), ('education', 2), ('pricing', 2), ('compare', 2), ('host', 2), ('manage', 2), ('million', 2), ('username', 2), ('email', 2), ('characters', 2), ('clicking', 2), ('ldquo', 2), ('rdquo', 2), ('agree', 2), ('service', 2), ('statement', 2), ('we’ll', 2), ('occasionally', 2), ('send', 2), ('related', 2), ('emails', 2), ('try', 2), ('own', 2), ('servers', 2), ('private', 2), ('improve', 2), ('flexible', 2), ('options', 2), ('permissions', 2), ('sales', 2), ('start', 2), ('free', 2), ('organizations', 2), ('happen', 2), ('share', 2), ('browse', 2), ('apps', 2), ('discover', 2), ('authentication', 2), ('status', 2), ('maintain', 2), ('access', 2), ('securely', 2), ('process', 2), ('api', 2), ('create', 2), ('there’s', 2), ('home', 2), ('largest', 2), ('customer', 2), ('kubernetes', 2), ('press', 2), ('tab', 2), ('window', 2), ('reload', 2), ('refresh', 2), ('session', 2), ('world’s', 3), ('development', 3), ('review', 3), ('project', 3), ('source', 3), ('marketplace', 3), ('plans', 3), ('developer', 3), ('search', 3), ('alongside', 3), ('password', 3), ('terms', 3), ('privacy', 3), ('account', 3), ('support', 3), ('contact', 3), ('teams', 3), ('tools', 3), ('using', 3), ('signed', 3), ('m', 3), ('worldwide', 3), ('platform', 4), ('management', 4), ('team', 4), ('hosting', 4), ('business', 4), ('cloud', 4), ('enterprise', 4), ('jump', 4), ('projects', 4), ('help', 4), ('software', 5), ('integrations', 5), ('security', 5), ('community', 5), ('build', 5), ('businesses', 5), ('maintainer', 5), ('learn', 6), ('↵', 6), ('developers', 7), ('github', 37), ('sign', 9), ('nbsp', 9), ('code', 11), ('a', 13), ('rarr', 15)]\n",
      "\n"
     ]
    }
   ],
   "source": [
    "w4.getWordsFrequency()"
   ]
  },
  {
   "cell_type": "code",
   "execution_count": 12,
   "metadata": {
    "scrolled": false
   },
   "outputs": [
    {
     "name": "stdout",
     "output_type": "stream",
     "text": [
      "http://www.times.com\n",
      "\n",
      "[('a', 23), ('s', 11), ('trump', 11), ('opinion', 10), ('n', 9), ('magazine', 9), ('york', 8), ('arts', 8), ('video', 8), ('times', 7), ('home', 7), ('u', 6), ('politics', 6), ('x', 6), ('news', 5), ('world', 5), ('business', 5), ('style', 5), ('president', 5), ('amp', 5), ('site', 4), ('y', 4), ('tech', 4), ('science', 4), ('health', 4), ('sports', 4), ('books', 4), ('food', 4), ('travel', 4), ('t', 4), ('real', 4), ('estate', 4), ('climate', 4), ('j', 4), ('music', 4), ('op', 4), ('ed', 4), ('multimedia', 3), ('paper', 3), ('columnists', 3), ('arrest', 3), ('united', 3), ('drilling', 3), ('administration', 3), ('france’s', 3), ('p', 3), ('golf', 3), ('victorina', 3), ('morales', 3), ('live', 3), ('help', 3), ('people', 3), ('house', 3), ('dance', 3), ('art', 3), ('review', 3), ('page', 3), ('crossword', 3), ('cooking', 3), ('education', 3), ('subscriptions', 3), ('skip', 2), ('index', 2), ('chinese', 2), ('subscribe', 2), ('log', 2), ('listen', 2), ('‘the', 2), ('power', 2), ('china', 2), ('xi', 2), ('trade', 2), ('imperiled', 2), ('talks', 2), ('plans', 2), ('mining', 2), ('plan', 2), ('protections', 2), ('sage', 2), ('grouse', 2), ('blow', 2), ('money', 2), ('bound', 2), ('brook', 2), ('left', 2), ('guatemala', 2), ('illegally', 2), ('entered', 2), ('started', 2), ('national', 2), ('club', 2), ('bedminster', 2), ('christopher', 2), ('gregory', 2), ('former', 2), ('mentally', 2), ('ill', 2), ('own', 2), ('records', 2), ('prove', 2), ('republican', 2), ('owes', 2), ('campaign', 2), ('harris', 2), ('race', 2), ('operative', 2), ('family', 2), ('issue', 2), ('choices', 2), ('obama', 2), ('obituaries', 2), ('upshot', 2), ('corrections', 2), ('editorials', 2), ('contributors', 2), ('letters', 2), ('sunday', 2), ('design', 2), ('movies', 2), ('television', 2), ('theater', 2), ('watching', 2), ('living', 2), ('automobiles', 2), ('jobs', 2), ('weddings', 2), ('reader', 2), ('center', 2), ('wirecutter', 2), ('learning', 2), ('network', 2), ('tools', 2), ('services', 2), ('c', 2), ('events', 2), ('guide', 2), ('photography', 2), ('nyt', 2), ('store', 2), ('journeys', 2), ('manage', 2), ('account', 2), ('terms', 2), ('breaking', 1), ('sections', 1), ('search', 1), ('content', 1), ('english', 1), ('español', 1), ('中文', 1), ('today’s', 1), ('daily’', 1), ('watering', 1), ('democrats’', 1), ('wisconsin', 1), ('‘dealbook’', 1), ('newsletter', 1), ('inside', 1), ('emails', 1), ('facebook', 1), ('you’d', 1), ('read', 1), ('argument’', 1), ('traitor', 1), ('takes', 1), ('relations', 1), ('planned', 1), ('truce', 1), ('miles', 1), ('saturday', 1), ('met', 1), ('jinping', 1), ('meanwhile', 1), ('top', 1), ('executive', 1), ('detained', 1), ('canada', 1), ('states’', 1), ('request', 1), ('meng', 1), ('wanzhou', 1), ('technology', 1), ('firm', 1), ('huawei', 1), ('meant', 1), ('warning', 1), ('alleged', 1), ('breaches', 1), ('sanctions', 1), ('iran', 1), ('complicated', 1), ('global', 1), ('skepticism', 1), ('huawei’s', 1), ('growing', 1), ('ms', 1), ('meng’s', 1), ('environment', 1), ('million', 1), ('acres', 1), ('oil', 1), ('detailed', 1), ('strip', 1), ('swath', 1), ('american', 1), ('west', 1), ('stroke', 1), ('action', 1), ('land', 1), ('step', 1), ('environmental', 1), ('policy', 1), ('experts', 1), ('roll', 1), ('expected', 1), ('finalized', 1), ('dan', 1), ('cepeda', 1), ('casper', 1), ('star', 1), ('tribune', 1), ('via', 1), ('associated', 1), ('press', 1), ('‘yellow', 1), ('vest’', 1), ('protests', 1), ('lesson', 1), ('change', 1), ('scientists', 1), ('economists', 1), ('believe', 1), ('carbon', 1), ('taxes', 1), ('reduce', 1), ('fossil', 1), ('fuel', 1), ('dependence', 1), ('question', 1), ('cushion', 1), ('vulnerable', 1), ('proposal', 1), ('significantly', 1), ('limit', 1), ('e', 1), ('’s', 1), ('control', 1), ('water', 1), ('pollution', 1), ('trump’s', 1), ('bed', 1), ('housekeeper', 1), ('papers', 1), ('president’s', 1), ('jersey', 1), ('course', 1), ('undocumented', 1), ('immigrant', 1), ('maid', 1), ('wasn’t', 1), ('“we', 1), ('tired', 1), ('abuse', 1), ('insults', 1), ('helping', 1), ('name', 1), ('heather', 1), ('nauert', 1), ('department’s', 1), ('spokeswoman', 1), ('succeed', 1), ('nikki', 1), ('haley', 1), ('ambassador', 1), ('considering', 1), ('nominating', 1), ('attorney', 1), ('william', 1), ('barr', 1), ('run', 1), ('justice', 1), ('department', 1), ('‘i', 1), ('human', 1), ('being’', 1), ('fails', 1), ('cutting', 1), ('edge', 1), ('program', 1), ('severely', 1), ('endangered', 1), ('ready', 1), ('investigation', 1), ('found', 1), ('interviews', 1), ('thousands', 1), ('pages', 1), ('sudden', 1), ('shift', 1), ('institution', 1), ('independence', 1), ('deadly', 1), ('abraham', 1), ('clemente', 1), ('schizophrenic', 1), ('moved', 1), ('adult', 1), ('brooklyn', 1), ('apartment', 1), ('“i', 1), ('don’t', 1), ('august', 1), ('george', 1), ('etheredge', 1), ('propublica', 1), ('north', 1), ('carolina', 1), ('voting', 1), ('operation', 1), ('mark', 1), ('g', 1), ('o', 1), ('nominee', 1), ('mired', 1), ('voter', 1), ('fraud', 1), ('allegations', 1), ('consulting', 1), ('controversial', 1), ('accused', 1), ('collecting', 1), ('absentee', 1), ('ballots', 1), ('voters', 1), ('potentially', 1), ('illegal', 1), ('effort', 1), ('tip', 1), ('election', 1), ('elizabeth', 1), ('warren', 1), ('stands', 1), ('dna', 1), ('test', 1), ('worries', 1), ('abound', 1), ('releasing', 1), ('results', 1), ('origins', 1), ('tribes', 1), ('ancestry', 1), ('clouding', 1), ('presidential', 1), ('intensified', 1), ('california', 1), ('republicans', 1), ('faced', 1), ('setback', 1), ('david', 1), ('valadao', 1), ('conceded', 1), ('performers', 1), ('lakeith', 1), ('stanfield’s', 1), ('balancing', 1), ('act', 1), ('life', 1), ('size', 1), ('hologram', 1), ('actor', 1), ('teetering', 1), ('iron', 1), ('beam', 1), ('city', 1), ('augmented', 1), ('reality', 1), ('let’s', 1), ('year’s', 1), ('actors', 1), ('series', 1), ('short', 1), ('films', 1), ('danced', 1), ('everyday', 1), ('ballets', 1), ('frozen', 1), ('moments', 1), ('movement', 1), ('oliver', 1), ('nachtwey', 1), ('doesn’t', 1), ('matter', 1), ('replaces', 1), ('merkel', 1), ('germany', 1), ('broken', 1), ('erosion', 1), ('country’s', 1), ('postwar', 1), ('created', 1), ('populace', 1), ('messages', 1), ('movements', 1), ('previously', 1), ('banished', 1), ('fringes', 1), ('sylvie', 1), ('kauffmann', 1), ('macron’s', 1), ('moment', 1), ('truth', 1), ('weeks', 1), ('violent', 1), ('protest', 1), ('angry', 1), ('poor', 1), ('testing', 1), ('promised', 1), ('reform', 1), ('failed', 1), ('govern', 1), ('jessica', 1), ('powell', 1), ('banning', 1), ('pornography', 1), ('tumblr', 1), ('editorial', 1), ('board', 1), ('call', 1), ('albany’s', 1), ('pay', 1), ('committee', 1), ('charles', 1), ('m', 1), ('efforts', 1), ('democracy', 1), ('paul', 1), ('krugman', 1), ('imaginary', 1), ('deal', 1), ('susan', 1), ('antilla', 1), ('metoo', 1), ('investigations', 1), ('wrong', 1), ('bret', 1), ('stephens', 1), ('combustible', 1), ('abbe', 1), ('r', 1), ('gluck', 1), ('erica', 1), ('turret', 1), ('ticking', 1), ('time', 1), ('bomb', 1), ('obamacare', 1), ('confidence', 1), ('learned', 1), ('linda', 1), ('greenhouse', 1), ('supreme', 1), ('court', 1), ('editors’', 1), ('picks', 1), ('robinson', 1), ('archives', 1), ('isabel', 1), ('wilkerson', 1), ('michelle', 1), ('migration', 1), ('lady’s', 1), ('memoir', 1), ('“becoming', 1), ('recounts', 1), ('insight', 1), ('candor', 1), ('wit', 1), ('family’s', 1), ('trajectory', 1), ('improbable', 1), ('path', 1), ('white', 1), ('book', 1), ('albums', 1), ('genre', 1), ('lines', 1), ('continued', 1), ('blur', 1), ('definition', 1), ('album', 1), ('shifted', 1), ('upheaval', 1), ('pop', 1), ('days', 1), ('nuyorican', 1), ('poets', 1), ('cafe', 1), ('week', 1), ('el', 1), ('espace', 1), ('column', 1), ('dedicated', 1), ('culture', 1), ('relevant', 1), ('latinx', 1), ('communities', 1), ('black', 1), ('beauty', 1), ('bloggers', 1), ('wellness', 1), ('tips', 1), ('“for', 1), ('culture”', 1), ('we’d', 1), ('experience', 1), ('listings', 1), ('delivery', 1), ('digital', 1), ('email', 1), ('newsletters', 1), ('corporate', 1), ('rate', 1), ('mobile', 1), ('applications', 1), ('replica', 1), ('edition', 1), ('information', 1), ('navigation', 1), ('©', 1), ('company', 1), ('contact', 1), ('advertise', 1), ('ad', 1), ('privacy', 1), ('service', 1), ('sale', 1), ('map', 1)]\n",
      "\n",
      "https://www.amazon.com\n",
      "\n",
      "[('robot', 2), ('characters', 2), ('image', 2), ('check', 1), ('enter', 1), ('below', 1), ('sorry', 1), ('re', 1), ('a', 1), ('results', 1), ('please', 1), ('browser', 1), ('accepting', 1), ('cookies', 1), ('type', 1), ('try', 1), ('continue', 1), ('shopping', 1), ('conditions', 1), ('privacy', 1), ('policy', 1), ('copy', 1), ('amazon', 1), ('com', 1), ('inc', 1), ('affiliates', 1)]\n",
      "\n",
      "https://github.com\n",
      "\n",
      "[('rarr', 15), ('a', 13), ('code', 11), ('sign', 9), ('nbsp', 9), ('software', 5), ('integrations', 5), ('security', 5), ('community', 5), ('build', 5), ('businesses', 5), ('maintainer', 5), ('developers', 7), ('learn', 6), ('↵', 6), ('github', 37), ('platform', 4), ('management', 4), ('team', 4), ('hosting', 4), ('business', 4), ('cloud', 4), ('enterprise', 4), ('jump', 4), ('projects', 4), ('help', 4), ('world’s', 3), ('development', 3), ('review', 3), ('project', 3), ('source', 3), ('marketplace', 3), ('plans', 3), ('developer', 3), ('search', 3), ('alongside', 3), ('password', 3), ('terms', 3), ('privacy', 3), ('account', 3), ('support', 3), ('contact', 3), ('teams', 3), ('tools', 3), ('using', 3), ('signed', 3), ('m', 3), ('worldwide', 3), ('features', 2), ('documentation', 2), ('studies', 2), ('explore', 2), ('forum', 2), ('education', 2), ('pricing', 2), ('compare', 2), ('host', 2), ('manage', 2), ('million', 2), ('username', 2), ('email', 2), ('characters', 2), ('clicking', 2), ('ldquo', 2), ('rdquo', 2), ('agree', 2), ('service', 2), ('statement', 2), ('we’ll', 2), ('occasionally', 2), ('send', 2), ('related', 2), ('emails', 2), ('try', 2), ('own', 2), ('servers', 2), ('private', 2), ('improve', 2), ('flexible', 2), ('options', 2), ('permissions', 2), ('sales', 2), ('start', 2), ('free', 2), ('organizations', 2), ('happen', 2), ('share', 2), ('browse', 2), ('apps', 2), ('discover', 2), ('authentication', 2), ('status', 2), ('maintain', 2), ('access', 2), ('securely', 2), ('process', 2), ('api', 2), ('create', 2), ('there’s', 2), ('home', 2), ('largest', 2), ('customer', 2), ('kubernetes', 2), ('press', 2), ('tab', 2), ('window', 2), ('reload', 2), ('refresh', 2), ('session', 2), ('leading', 1), ('skip', 1), ('content', 1), ('social', 1), ('coding', 1), ('amp', 1), ('contribute', 1), ('topics', 1), ('collections', 1), ('trending', 1), ('learning', 1), ('lab', 1), ('guides', 1), ('connect', 1), ('events', 1), ('nonprofit', 1), ('suggested', 1), ('results', 1), ('built', 1), ('inspired', 1), ('s', 1), ('including', 1), ('lowercase', 1), ('letter', 1), ('read', 1), ('safer', 1), ('practices', 1), ('premises', 1), ('efficiency', 1), ('deployment', 1), ('centralized', 1), ('hundreds', 1), ('technical', 1), ('trial', 1), ('brings', 1), ('move', 1), ('ideas', 1), ('forward', 1), ('write', 1), ('collaboration', 1), ('makes', 1), ('perfect', 1), ('conversations', 1), ('reviews', 1), ('pull', 1), ('requests', 1), ('weight', 1), ('chaos', 1), ('deep', 1), ('breath', 1), ('happens', 1), ('issues', 1), ('mention', 1), ('teammate', 1), ('involved', 1), ('buy', 1), ('favorites—then', 1), ('minutes', 1), ('administration', 1), ('boxes', 1), ('check', 1), ('worry', 1), ('administrative', 1), ('don’t', 1), ('meet', 1), ('team’s', 1), ('requirements', 1), ('prevent', 1), ('protected', 1), ('branches', 1), ('commits', 1), ('required', 1), ('checks', 1), ('protect', 1), ('standard', 1), ('controlled', 1), ('encourage', 1), ('limiting', 1), ('granular', 1), ('saml', 1), ('sso', 1), ('ldap', 1), ('clr', 1), ('hosted', 1), ('reliably', 1), ('com', 1), ('deploy', 1), ('amazon', 1), ('web', 1), ('services', 1), ('azure', 1), ('google', 1), ('information', 1), ('customize', 1), ('intuitive', 1), ('integrate', 1), ('favorites', 1), ('happier', 1), ('efficient', 1), ('sometimes', 1), ('tool', 1), ('job', 1), ('welcome', 1), ('ariya', 1), ('hidayat', 1), ('phantomjs', 1), ('russell', 1), ('keith', 1), ('magee', 1), ('pybee', 1), ('mailchimp', 1), ('marketing', 1), ('kris', 1), ('nova', 1), ('kops', 1), ('evan', 1), ('vue', 1), ('mapbox', 1), ('jess', 1), ('frazelle', 1), ('previously', 1), ('docker', 1), ('you’re', 1), ('commit', 1), ('sending', 1), ('rover', 1), ('mars', 1), ('repositories', 1), ('github’s', 1), ('users', 1), ('influential', 1), ('technologies', 1), ('personal', 1), ('experimenting', 1), ('programming', 1), ('languages', 1), ('life’s', 1), ('sizes', 1), ('november', 1), ('started', 1), ('mdash', 1), ('join', 1), ('millions', 1), ('amazing', 1), ('product', 1), ('resources', 1), ('partners', 1), ('atom', 1), ('electron', 1), ('desktop', 1), ('training', 1), ('company', 1), ('blog', 1), ('careers', 1), ('shop', 1), ('copy', 1), ('inc', 1), ('can’t', 1), ('perform', 1), ('action', 1), ('time', 1), ('h', 1), ('hovercard', 1), ('details', 1)]\n",
      "\n"
     ]
    }
   ],
   "source": [
    "w4.getWordsFrequency(reverse=True)"
   ]
  },
  {
   "cell_type": "markdown",
   "metadata": {},
   "source": [
    "> * class SearchEngineWithOrderedWebWords(SearchEngine):의 형식으로 SearchEngineWithOrderedWebWords은 SearchEngine을 상속받는다.\n",
    "* 그리고 오버라이딩을 사용하여 부모객체에 있는 getWordsFrequency를 다시 정의한다.\n",
    "* 우선 getWordsFrequency에 False 또는 True값을 받는 인자 reverse가있는데 이 값이 False일 때 오름차순 정렬이고 True이면 내림차순 정렬이다. 그리고 이때 기본이자로는 False이다.\n",
    "* 우선 reverse가 False일때 Url이 담겨있는 리스트li가 비어있으면 비어있는 리스트flist를 출력하고 그렇지 않으면 li에 있는 url마다 diction함수를 사용하여 사전객체로 만들어 dic에 저장한다. \n",
    "* 그 다음 dic의 value값들을 list형태로 만들어준다.\n",
    "* 그 뒤에 중복되는 값들을 지우기 위해 set형태로 만들어준다음 그 것을 다시 list형태로 만든다. \n",
    "* 이렇게 되면 중복되지 않은 값들이 오름차순정렬이 되므로 이를 확장슬라이싱을 사용하여 [::-1]으로 뒤에서부터 접근한다.\n",
    "* 이렇게 단어 빈도수와 사전객체dic의 value값이 같은 것들을 flist에 추가해주고 이를 출력한다음 다음 Url사이트에 대한 연산을 하기위해 flist를 빈리스트로 초기화해준다.\n",
    "* 그리고 reverse인자가 True일때는 위의 방법에 유사하다.\n",
    "* 차이점으로는 단순히 확장슬라이싱을 사용할 필요없이 오름차순정렬이 되어있으므로 그대로 접근하여 사용한다."
   ]
  },
  {
   "cell_type": "markdown",
   "metadata": {},
   "source": [
    "# 9. 다음과 같은 코딩이 가능하도록 SearchEngineWithOrderedWebWords안에 반복자와 관련된 메소드를 추가하시오."
   ]
  },
  {
   "cell_type": "markdown",
   "metadata": {},
   "source": [
    "> \\>\\>\\> for i in w4:  \n",
    " \\>\\>\\>       print(i)  \n",
    " ('site, 12)  \n",
    " ('science', 11)   \n",
    " ('hello', 8)  \n",
    " ('world', 2)  \n",
    " ('program', 1)   \n",
    " ('python', 1)  "
   ]
  },
  {
   "cell_type": "code",
   "execution_count": 18,
   "metadata": {},
   "outputs": [],
   "source": [
    "class SearchEngineWithOrderedWebWords(SearchEngine):     \n",
    "    def getWordsFrequency(self, reverse = False):\n",
    "        dic = {}\n",
    "        flist=[]\n",
    "        if reverse == False:\n",
    "            if self.li == []:\n",
    "                print(dic) \n",
    "            else:        \n",
    "                for url in self.li:\n",
    "                    dic = self.diction(url)\n",
    "                    a = list(dic.values())\n",
    "                    a.sort()\n",
    "                    \n",
    "                    print(url)\n",
    "                    print()\n",
    "                    for i in set(a):\n",
    "                        for j in dic:\n",
    "                            if i == dic[j]:\n",
    "                                flist.append((j, i))\n",
    "                    print(flist)\n",
    "                    flist = []\n",
    "                    print()\n",
    "        elif reverse == True:\n",
    "            if self.li == []:\n",
    "                print(dic) \n",
    "            else:  \n",
    "                for url in self.li:\n",
    "                    dic = self.diction(url)\n",
    "                    a = list(dic.values())\n",
    "                    a.sort(reverse = True)\n",
    "                    \n",
    "                    print(url)\n",
    "                    print()\n",
    "                    for i in list(set(a))[::-1]:\n",
    "                        for j in dic:\n",
    "                            if i == dic[j]:\n",
    "                                flist.append((j, i))\n",
    "                    print(flist)\n",
    "                    flist = []\n",
    "                    print()\n",
    "                    \n",
    "\n",
    "    def __iter__(self):\n",
    "        self.fre = self.getWordsFrequency(True)\n",
    "        return self\n",
    " \n",
    "    def __next__(self):\n",
    "        if self.fre == None:\n",
    "            raise StopIteration\n",
    "        return self.fre\n"
   ]
  },
  {
   "cell_type": "code",
   "execution_count": 19,
   "metadata": {
    "scrolled": false
   },
   "outputs": [],
   "source": [
    "w4 = SearchEngineWithOrderedWebWords('http://www.times.com', 'https://www.amazon.com', 'https://github.com')"
   ]
  },
  {
   "cell_type": "code",
   "execution_count": 22,
   "metadata": {
    "scrolled": false
   },
   "outputs": [
    {
     "name": "stdout",
     "output_type": "stream",
     "text": [
      "http://www.times.com\n",
      "\n",
      "[('s', 14), ('opinion', 10), ('trump', 10), ('york', 9), ('u', 9), ('n', 9), ('times', 8), ('arts', 8), ('magazine', 8), ('video', 8), ('world', 6), ('real', 6), ('estate', 6), ('climate', 6), ('home', 6), ('x', 6), ('politics', 5), ('business', 5), ('style', 5), ('arrest', 5), ('amp', 5), ('news', 4), ('site', 4), ('y', 4), ('tech', 4), ('science', 4), ('health', 4), ('sports', 4), ('books', 4), ('food', 4), ('travel', 4), ('t', 4), ('china', 4), ('president', 4), ('j', 4), ('help', 4), ('op', 4), ('ed', 4), ('multimedia', 3), ('paper', 3), ('columnists', 3), ('united', 3), ('talks', 3), ('change', 3), ('golf', 3), ('victorina', 3), ('morales', 3), ('harris', 3), ('jobs', 3), ('services', 3), ('art', 3), ('review', 3), ('market', 3), ('page', 3), ('crossword', 3), ('cooking', 3), ('education', 3), ('subscriptions', 3), ('skip', 2), ('index', 2), ('chinese', 2), ('subscribe', 2), ('log', 2), ('listen', 2), ('‘the', 2), ('xi', 2), ('trade', 2), ('imperiled', 2), ('top', 2), ('threatens', 2), ('largest', 2), ('carbon', 2), ('moment', 2), ('plan', 2), ('sage', 2), ('grouse', 2), ('protections', 2), ('plans', 2), ('drilling', 2), ('administration', 2), ('money', 2), ('bound', 2), ('brook', 2), ('left', 2), ('guatemala', 2), ('illegally', 2), ('entered', 2), ('started', 2), ('national', 2), ('club', 2), ('bedminster', 2), ('christopher', 2), ('gregory', 2), ('former', 2), ('p', 2), ('run', 2), ('justice', 2), ('department', 2), ('owes', 2), ('house', 2), ('operative', 2), ('support', 2), ('lower', 2), ('pay', 2), ('job', 2), ('candidates', 2), ('city', 2), ('foster', 2), ('children', 2), ('family', 2), ('michelle', 2), ('obama', 2), ('love', 2), ('obituaries', 2), ('upshot', 2), ('corrections', 2), ('editorials', 2), ('contributors', 2), ('letters', 2), ('sunday', 2), ('design', 2), ('dance', 2), ('movies', 2), ('music', 2), ('television', 2), ('theater', 2), ('watching', 2), ('living', 2), ('automobiles', 2), ('weddings', 2), ('reader', 2), ('center', 2), ('wirecutter', 2), ('learning', 2), ('network', 2), ('tools', 2), ('c', 2), ('events', 2), ('guide', 2), ('photography', 2), ('nyt', 2), ('store', 2), ('journeys', 2), ('manage', 2), ('account', 2), ('terms', 2), ('breaking', 1), ('sections', 1), ('search', 1), ('content', 1), ('english', 1), ('español', 1), ('中文', 1), ('today’s', 1), ('daily’', 1), ('photo', 1), ('starving', 1), ('child', 1), ('drew', 1), ('attention', 1), ('yemen’s', 1), ('plight', 1), ('‘dealbook’', 1), ('newsletter', 1), ('inside', 1), ('emails', 1), ('facebook', 1), ('you’d', 1), ('read', 1), ('argument’', 1), ('traitor', 1), ('takes', 1), ('relations', 1), ('planned', 1), ('truce', 1), ('miles', 1), ('saturday', 1), ('met', 1), ('jinping', 1), ('meanwhile', 1), ('executive', 1), ('detained', 1), ('canada', 1), ('states’', 1), ('request', 1), ('meng', 1), ('wanzhou', 1), ('technology', 1), ('firm', 1), ('huawei', 1), ('meant', 1), ('warning', 1), ('alleged', 1), ('breaches', 1), ('sanctions', 1), ('iran', 1), ('complicated', 1), ('global', 1), ('skepticism', 1), ('huawei’s', 1), ('growing', 1), ('ms', 1), ('meng’s', 1), ('environment', 1), ('friction', 1), ('undercut', 1), ('fight', 1), ('footprints', 1), ('economies', 1), ('diplomats', 1), ('meet', 1), ('stakes', 1), ('standoff', 1), ('slow', 1), ('action', 1), ('crucial', 1), ('roll', 1), ('expected', 1), ('finalized', 1), ('dan', 1), ('cepeda', 1), ('casper', 1), ('star', 1), ('tribune', 1), ('via', 1), ('associated', 1), ('press', 1), ('million', 1), ('acres', 1), ('oil', 1), ('mining', 1), ('stroke', 1), ('strip', 1), ('land', 1), ('step', 1), ('experts', 1), ('france’s', 1), ('‘yellow', 1), ('vest’', 1), ('protests', 1), ('lesson', 1), ('scientists', 1), ('economists', 1), ('believe', 1), ('taxes', 1), ('reduce', 1), ('fossil', 1), ('fuel', 1), ('dependence', 1), ('question', 1), ('cushion', 1), ('blow', 1), ('vulnerable', 1), ('trump’s', 1), ('bed', 1), ('housekeeper', 1), ('papers', 1), ('president’s', 1), ('jersey', 1), ('course', 1), ('undocumented', 1), ('immigrant', 1), ('maid', 1), ('wasn’t', 1), ('“we', 1), ('tired', 1), ('abuse', 1), ('insults', 1), ('helping', 1), ('name', 1), ('heather', 1), ('nauert', 1), ('department’s', 1), ('spokeswoman', 1), ('succeed', 1), ('nikki', 1), ('haley', 1), ('ambassador', 1), ('considering', 1), ('nominating', 1), ('attorney', 1), ('william', 1), ('barr', 1), ('north', 1), ('carolina', 1), ('republican', 1), ('voting', 1), ('operation', 1), ('records', 1), ('campaign', 1), ('mark', 1), ('g', 1), ('o', 1), ('nominee', 1), ('race', 1), ('mired', 1), ('voter', 1), ('fraud', 1), ('allegations', 1), ('consulting', 1), ('controversial', 1), ('accused', 1), ('collecting', 1), ('absentee', 1), ('ballots', 1), ('voters', 1), ('potentially', 1), ('illegal', 1), ('effort', 1), ('tip', 1), ('election', 1), ('pastor', 1), ('politician', 1), ('favorite', 1), ('christian', 1), ('senator', 1), ('joe', 1), ('manchin', 1), ('iii', 1), ('west', 1), ('virginia', 1), ('democrat', 1), ('energy', 1), ('post', 1), ('coal', 1), ('drawn', 1), ('fire', 1), ('i', 1), ('talent', 1), ('scout', 1), ('unorthodox', 1), ('hires', 1), ('maybe', 1), ('form', 1), ('artificial', 1), ('intelligence', 1), ('surface', 1), ('attributes', 1), ('perfect', 1), ('fit', 1), ('conventional', 1), ('credentials', 1), ('there’s', 1), ('potential', 1), ('downside', 1), ('wages', 1), ('fields', 1), ('according', 1), ('economist', 1), ('mengxin', 1), ('li', 1), ('labor', 1), ('release', 1), ('figures', 1), ('november', 1), ('m', 1), ('eastern', 1), ('here’s', 1), ('watch', 1), ('running', 1), ('lead', 1), ('handcuffs', 1), ('crime', 1), ('care', 1), ('court', 1), ('hearings', 1), ('week', 1), ('getting', 1), ('warrants', 1), ('jasmine', 1), ('children’s’', 1), ('issued', 1), ('warrant', 1), ('elizabeth', 1), ('d', 1), ('herman', 1), ('nicholas', 1), ('kristof', 1), ('tax', 1), ('dollars', 1), ('starve', 1), ('famine', 1), ('yemen', 1), ('worst', 1), ('seen', 1), ('generation', 1), ('cottle', 1), ('shrugs', 1), ('criminal', 1), ('reform', 1), ('presidential', 1), ('bipartisan', 1), ('overcome', 1), ('mitch', 1), ('mcconnell', 1), ('sylvie', 1), ('kauffmann', 1), ('macron’s', 1), ('truth', 1), ('jessica', 1), ('powell', 1), ('banning', 1), ('pornography', 1), ('tumblr', 1), ('paul', 1), ('krugman', 1), ('imaginary', 1), ('deal', 1), ('oliver', 1), ('nachtwey', 1), ('doesn’t', 1), ('matter', 1), ('replaces', 1), ('merkel', 1), ('germany', 1), ('broken', 1), ('timothy', 1), ('egan', 1), ('deadly', 1), ('soul', 1), ('machine', 1), ('david', 1), ('belcher', 1), ('rage', 1), ('‘network’', 1), ('prophecy', 1), ('nostalgia', 1), ('susan', 1), ('antilla', 1), ('metoo', 1), ('investigations', 1), ('wrong', 1), ('editorial', 1), ('board', 1), ('call', 1), ('albany’s', 1), ('committee', 1), ('abbe', 1), ('r', 1), ('gluck', 1), ('erica', 1), ('turret', 1), ('ticking', 1), ('time', 1), ('bomb', 1), ('obamacare', 1), ('editors’', 1), ('picks', 1), ('robinson', 1), ('archives', 1), ('isabel', 1), ('wilkerson', 1), ('migration', 1), ('lady’s', 1), ('memoir', 1), ('“becoming', 1), ('recounts', 1), ('insight', 1), ('candor', 1), ('wit', 1), ('family’s', 1), ('trajectory', 1), ('improbable', 1), ('path', 1), ('white', 1), ('book', 1), ('normal', 1), ('it’s', 1), ('buyer’s', 1), ('luxury', 1), ('funk', 1), ('rest', 1), ('weakening', 1), ('price', 1), ('cuts', 1), ('sweeteners', 1), ('pop', 1), ('yoga', 1), ('classes', 1), ('modern', 1), ('boyfriend', 1), ('joins', 1), ('marriage', 1), ('agreed', 1), ('sex', 1), ('didn’t', 1), ('fell', 1), ('we’d', 1), ('experience', 1), ('listings', 1), ('delivery', 1), ('digital', 1), ('email', 1), ('newsletters', 1), ('corporate', 1), ('rate', 1), ('mobile', 1), ('applications', 1), ('replica', 1), ('edition', 1), ('information', 1), ('navigation', 1), ('©', 1), ('company', 1), ('contact', 1), ('advertise', 1), ('ad', 1), ('choices', 1), ('privacy', 1), ('service', 1), ('sale', 1), ('map', 1), ('a', 32)]\n",
      "\n",
      "https://www.amazon.com\n",
      "\n",
      "[('robot', 2), ('characters', 2), ('image', 2), ('check', 1), ('enter', 1), ('below', 1), ('sorry', 1), ('re', 1), ('a', 1), ('results', 1), ('please', 1), ('browser', 1), ('accepting', 1), ('cookies', 1), ('type', 1), ('try', 1), ('continue', 1), ('shopping', 1), ('conditions', 1), ('privacy', 1), ('policy', 1), ('copy', 1), ('amazon', 1), ('com', 1), ('inc', 1), ('affiliates', 1)]\n",
      "\n",
      "https://github.com\n",
      "\n",
      "[('rarr', 15), ('a', 13), ('code', 11), ('sign', 9), ('nbsp', 9), ('software', 5), ('integrations', 5), ('security', 5), ('community', 5), ('build', 5), ('businesses', 5), ('maintainer', 5), ('developers', 7), ('learn', 6), ('↵', 6), ('github', 37), ('platform', 4), ('management', 4), ('team', 4), ('hosting', 4), ('business', 4), ('cloud', 4), ('enterprise', 4), ('jump', 4), ('projects', 4), ('help', 4), ('world’s', 3), ('development', 3), ('review', 3), ('project', 3), ('source', 3), ('marketplace', 3), ('plans', 3), ('developer', 3), ('search', 3), ('alongside', 3), ('password', 3), ('terms', 3), ('privacy', 3), ('account', 3), ('support', 3), ('contact', 3), ('teams', 3), ('tools', 3), ('using', 3), ('signed', 3), ('m', 3), ('worldwide', 3), ('features', 2), ('documentation', 2), ('studies', 2), ('explore', 2), ('forum', 2), ('education', 2), ('pricing', 2), ('compare', 2), ('host', 2), ('manage', 2), ('million', 2), ('username', 2), ('email', 2), ('characters', 2), ('clicking', 2), ('ldquo', 2), ('rdquo', 2), ('agree', 2), ('service', 2), ('statement', 2), ('we’ll', 2), ('occasionally', 2), ('send', 2), ('related', 2), ('emails', 2), ('try', 2), ('own', 2), ('servers', 2), ('private', 2), ('improve', 2), ('flexible', 2), ('options', 2), ('permissions', 2), ('sales', 2), ('start', 2), ('free', 2), ('organizations', 2), ('happen', 2), ('share', 2), ('browse', 2), ('apps', 2), ('discover', 2), ('authentication', 2), ('status', 2), ('maintain', 2), ('access', 2), ('securely', 2), ('process', 2), ('api', 2), ('create', 2), ('there’s', 2), ('home', 2), ('largest', 2), ('customer', 2), ('kubernetes', 2), ('press', 2), ('tab', 2), ('window', 2), ('reload', 2), ('refresh', 2), ('session', 2), ('leading', 1), ('skip', 1), ('content', 1), ('social', 1), ('coding', 1), ('amp', 1), ('contribute', 1), ('topics', 1), ('collections', 1), ('trending', 1), ('learning', 1), ('lab', 1), ('guides', 1), ('connect', 1), ('events', 1), ('nonprofit', 1), ('suggested', 1), ('results', 1), ('built', 1), ('inspired', 1), ('s', 1), ('including', 1), ('lowercase', 1), ('letter', 1), ('read', 1), ('safer', 1), ('practices', 1), ('premises', 1), ('efficiency', 1), ('deployment', 1), ('centralized', 1), ('hundreds', 1), ('technical', 1), ('trial', 1), ('brings', 1), ('move', 1), ('ideas', 1), ('forward', 1), ('write', 1), ('collaboration', 1), ('makes', 1), ('perfect', 1), ('conversations', 1), ('reviews', 1), ('pull', 1), ('requests', 1), ('weight', 1), ('chaos', 1), ('deep', 1), ('breath', 1), ('happens', 1), ('issues', 1), ('mention', 1), ('teammate', 1), ('involved', 1), ('buy', 1), ('favorites—then', 1), ('minutes', 1), ('administration', 1), ('boxes', 1), ('check', 1), ('worry', 1), ('administrative', 1), ('don’t', 1), ('meet', 1), ('team’s', 1), ('requirements', 1), ('prevent', 1), ('protected', 1), ('branches', 1), ('commits', 1), ('required', 1), ('checks', 1), ('protect', 1), ('standard', 1), ('controlled', 1), ('encourage', 1), ('limiting', 1), ('granular', 1), ('saml', 1), ('sso', 1), ('ldap', 1), ('clr', 1), ('hosted', 1), ('reliably', 1), ('com', 1), ('deploy', 1), ('amazon', 1), ('web', 1), ('services', 1), ('azure', 1), ('google', 1), ('information', 1), ('customize', 1), ('intuitive', 1), ('integrate', 1), ('favorites', 1), ('happier', 1), ('efficient', 1), ('sometimes', 1), ('tool', 1), ('job', 1), ('welcome', 1), ('ariya', 1), ('hidayat', 1), ('phantomjs', 1), ('russell', 1), ('keith', 1), ('magee', 1), ('pybee', 1), ('mailchimp', 1), ('marketing', 1), ('kris', 1), ('nova', 1), ('kops', 1), ('evan', 1), ('vue', 1), ('mapbox', 1), ('jess', 1), ('frazelle', 1), ('previously', 1), ('docker', 1), ('you’re', 1), ('commit', 1), ('sending', 1), ('rover', 1), ('mars', 1), ('repositories', 1), ('github’s', 1), ('users', 1), ('influential', 1), ('technologies', 1), ('personal', 1), ('experimenting', 1), ('programming', 1), ('languages', 1), ('life’s', 1), ('sizes', 1), ('november', 1), ('started', 1), ('mdash', 1), ('join', 1), ('millions', 1), ('amazing', 1), ('product', 1), ('resources', 1), ('partners', 1), ('atom', 1), ('electron', 1), ('desktop', 1), ('training', 1), ('company', 1), ('blog', 1), ('careers', 1), ('shop', 1), ('copy', 1), ('inc', 1), ('can’t', 1), ('perform', 1), ('action', 1), ('time', 1), ('h', 1), ('hovercard', 1), ('details', 1)]\n",
      "\n"
     ]
    }
   ],
   "source": [
    "for i in w4:\n",
    "    print(i)"
   ]
  },
  {
   "cell_type": "markdown",
   "metadata": {},
   "source": [
    "> * 8번의 코드에서 \\_\\_iter\\_\\_와 \\_\\_next\\_\\_를 추가한 것이다. \n",
    "* \\_\\_iter\\_\\_는 self.fre라는 변수에 단어출현빈도를 튜플로 만든 리스트를 저장하고 객체자신을 반환한다.\n",
    "* 그리고 \\_\\_next\\_\\_은 \\_\\_iter\\_\\_에서 만들어준 self.fre의 다음 값이 없을때 즉 None객체가 올 때 반복자를 멈추는 StopIteration를 실행시킨다.\n",
    "* 그리고 self.fre를 반환한다."
   ]
  },
  {
   "cell_type": "markdown",
   "metadata": {},
   "source": [
    "* 이번 과제는 저번과제에서 구현한 코드를 클래스로 다시 만드는 것이여서 새로운 알고리즘이 필요하지는 않았다. 하지만 이때까지 사용해온 class가 아니라서 이해하는데 시간이 조금 걸렸다. \\_\\_사이에 있는 것들이 함수이고 이것을 이욯하여 구현한다는게 익숙치가 않았고 self가 처음에는 먼지도 몰라서 힘이 들었다. 이번 과제를 통해 대략적으로 이해가 되었고 좀 더 찾아보면서 이해해 나가야겠다고 생각하게 되었다."
   ]
  }
 ],
 "metadata": {
  "kernelspec": {
   "display_name": "Python 3",
   "language": "python",
   "name": "python3"
  },
  "language_info": {
   "codemirror_mode": {
    "name": "ipython",
    "version": 3
   },
   "file_extension": ".py",
   "mimetype": "text/x-python",
   "name": "python",
   "nbconvert_exporter": "python",
   "pygments_lexer": "ipython3",
   "version": "3.7.0"
  }
 },
 "nbformat": 4,
 "nbformat_minor": 2
}
