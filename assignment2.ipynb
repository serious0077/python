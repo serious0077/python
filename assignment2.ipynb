{
 "cells": [
  {
   "cell_type": "markdown",
   "metadata": {},
   "source": [
    "# 1. 다음 6 개의 Expression에 대해 Evaluation 결과 값을 출력하고, 해당 결과가 나온 이유에 대해 설명하시오"
   ]
  },
  {
   "cell_type": "markdown",
   "metadata": {},
   "source": [
    "- 1 and 2 and 3 and 4"
   ]
  },
  {
   "cell_type": "code",
   "execution_count": 1,
   "metadata": {},
   "outputs": [
    {
     "name": "stdout",
     "output_type": "stream",
     "text": [
      "4\n"
     ]
    }
   ],
   "source": [
    "print(1 and 2 and 3 and 4)"
   ]
  },
  {
   "cell_type": "markdown",
   "metadata": {},
   "source": [
    "> -  논리 연산자에서는 공백이나 0은 거짓(False)로 평가된다.    \n",
    "- 그리고 and연산은 and 앞이 거짓일때 뒤에것은 검사하지않고 바로 False를 반환한다.  \n",
    "- and 앞이 참이면 and 뒤의 값이 참인지 거짓인지 판별하여 그 값을 반환한다.  \n",
    "- 위의 코드에서 먼저 1 and 2 and 3 and 4가 수행되는데 1이 참이고 and연산이므로 뒤의 값이 참인지 검사한다.  \n",
    "- 그리고 2 and 3 and 4가 실행되고 여기서 2가 참이고 and연산이므로 그 뒤의 값이 참인지를 검사한다.\n",
    "- 이도 마찬가지로 3가 참이고 and연산이므로 4가 참인지 검사하고 4는 참이므로 4가 반환된다."
   ]
  },
  {
   "cell_type": "markdown",
   "metadata": {},
   "source": [
    "- 1 or 2 or 3 or 4"
   ]
  },
  {
   "cell_type": "code",
   "execution_count": 2,
   "metadata": {},
   "outputs": [
    {
     "name": "stdout",
     "output_type": "stream",
     "text": [
      "1\n"
     ]
    }
   ],
   "source": [
    "print(1 or 2 or 3 or 4)"
   ]
  },
  {
   "cell_type": "markdown",
   "metadata": {},
   "source": [
    "> - or연산은 or앞이 참일 때 뒤의 값은 확인하지 않고 참을 반환한다.  \n",
    "- 그리고 or앞이 거짓일 때 뒤의 값이 참인지 거짓인지를 판단하여 값을 반환한다.  \n",
    "- 따라서 1 or 2를 연산하면 1이 참이므로 그 뒤에 참인지 거짓인지 확인하지 않고 바로 1이 반환된다."
   ]
  },
  {
   "cell_type": "markdown",
   "metadata": {},
   "source": [
    "- 1 and 2 or 3 and 4"
   ]
  },
  {
   "cell_type": "code",
   "execution_count": 3,
   "metadata": {},
   "outputs": [
    {
     "name": "stdout",
     "output_type": "stream",
     "text": [
      "2\n"
     ]
    }
   ],
   "source": [
    "print(1 and 2 or 3 and 4)"
   ]
  },
  {
   "cell_type": "markdown",
   "metadata": {},
   "source": [
    "> - 먼저 1 and 2가 실행되는데 1이 참이고 and연산이므로 and 뒤인 2를 참인지 판단하여 값을 반환한다.  \n",
    "- 그다음 2 or 3이 실행된다. 이때 2가 참이고 or연산이므로 그 뒤는 확인하지 않고 2가 반환된다."
   ]
  },
  {
   "cell_type": "markdown",
   "metadata": {},
   "source": [
    "- (1 and 2) or (3 and 4)"
   ]
  },
  {
   "cell_type": "code",
   "execution_count": 4,
   "metadata": {},
   "outputs": [
    {
     "name": "stdout",
     "output_type": "stream",
     "text": [
      "2\n"
     ]
    }
   ],
   "source": [
    "print((1 and 2) or (3 and 4))"
   ]
  },
  {
   "cell_type": "markdown",
   "metadata": {},
   "source": [
    "> - 먼저 괄호안에 있는 (1 and 2)와 (3 and 4)가 먼저 실행된다.  \n",
    "- (1 and 2)은 1이 참이고 and연산이므로 2가 참인지 거짓인지 판별하고 참이므로 마지막에 검사한 2가 반환된다.\n",
    "- 마친가지로 (3 and 4)도 3이 참이고 and연산이므로 4가 참인지 판별하고 4가 반환된다.\n",
    "- 그러면 최종적으로는 2 or 4이 된다.\n",
    "- 이 연산은 2가 참이고 or연산이기 때문에 4가 참인지 거짓인지 판별할 필요없이 바로 2가 반환된다."
   ]
  },
  {
   "cell_type": "markdown",
   "metadata": {},
   "source": [
    "- 1 or 2 and 3 or 4"
   ]
  },
  {
   "cell_type": "code",
   "execution_count": 1,
   "metadata": {},
   "outputs": [
    {
     "name": "stdout",
     "output_type": "stream",
     "text": [
      "1\n"
     ]
    }
   ],
   "source": [
    "print(1 or 2 and 3 or 4)"
   ]
  },
  {
   "cell_type": "markdown",
   "metadata": {},
   "source": [
    "> - 먼저 1 or 2연산이 먼저 실행된다.  \n",
    "-  그러면 1이 참이고  or연산 뒤는 확인하지 않고 1을 반환해버린다."
   ]
  },
  {
   "cell_type": "markdown",
   "metadata": {},
   "source": [
    "- (1 or 2) and (3 or 4)"
   ]
  },
  {
   "cell_type": "code",
   "execution_count": 2,
   "metadata": {},
   "outputs": [
    {
     "name": "stdout",
     "output_type": "stream",
     "text": [
      "3\n"
     ]
    }
   ],
   "source": [
    "print((1 or 2) and (3 or 4))"
   ]
  },
  {
   "cell_type": "markdown",
   "metadata": {},
   "source": [
    "> - 가장 먼저 괄호안의 연산이 실행된다.  \n",
    "- 그러므로 (1 or 2)와 (3 or 4)가 실행된다.  \n",
    "- (1 or 2)의 연산결과는 1이 참이고 or연산이므로 1이 반환된다.  \n",
    "- (3 or 4)의 연산결과는 3이 참이고 or연산이므로 3이 반환된다.  \n",
    "- 그러면 1 and 3이 되고 이 연산은 1이 참이고 and연산이므로 3이 참인지 확인한다.  \n",
    "- 3이 참이므로 마지막에 확인한 3이 반환된다."
   ]
  },
  {
   "cell_type": "markdown",
   "metadata": {},
   "source": [
    "# 2. 경로에 해당하는 문자열 1개를 입력 받아 그 안에 디렉토리 경로명과 파일명을 분리하여 리스트로 반환하는 함수 div_path(s)를 작성하시오.\n",
    "- 인자로 전달하는 문자열은 경로만 들어간다고 가정한다.\n",
    "- 각 디렉토리와 파일을 구분하는 문자는 '/'로 가정한다.\n",
    "- 반환하는 리스트의 첫번째 원소는 디렉토리이고 두번째 원소는 파일명이다.\n",
    "- 다음과 같은 실행 및 출력 결과가 도출되어야 한다.\n",
    " * div_path('/usr/local/bin/python')\n",
    "   + ['/usr/local/bin', 'python']\n",
    "\n",
    " * div_path('/home/chulsoo/test.txt')\n",
    "    + ['/home/chulsoo', 'test.txt']\n",
    "\n",
    "\n",
    " * [참고] 리스트(l) 내에 새로운 정수값 (예를 들어 10)을 넣는 방법은 l.append(10) 이다. \n"
   ]
  },
  {
   "cell_type": "code",
   "execution_count": 20,
   "metadata": {},
   "outputs": [
    {
     "name": "stdout",
     "output_type": "stream",
     "text": [
      "1.경로명을 적으세요 : /usr/local/bin/python\n",
      "['/usr/local/bin', 'python']\n",
      "2.경로명을 적으세요 : /home/chulsoo/test.txt\n",
      "['/home/chulsoo', 'test.txt']\n"
     ]
    }
   ],
   "source": [
    "def div_path(s):\n",
    "    list = s.split('/')\n",
    "    l1 = [\"/\".join(list[:-1])]\n",
    "    l2 = [list[-1]]\n",
    "    return l1 + l2\n",
    "    \n",
    "s1=input(\"1.경로명을 적으세요 : \")\n",
    "print(div_path(s1))\n",
    "s2=input(\"2.경로명을 적으세요 : \")\n",
    "print(div_path(s2))    "
   ]
  },
  {
   "cell_type": "markdown",
   "metadata": {},
   "source": [
    "> - 우선 사용자에게 경로를 input()을 이용하여 받는다.  \n",
    "- 그리고 그 경로를 div_path(s)함수를 이용하여 디렉토리와 파일명으로 나눈다.  \n",
    "- div_path(s)에서 경로를 받은 s를 split('/')을 이용하여 /문자 단위로 나누어 리스트를 반환한 값을 list에 대입한다.  \n",
    "- list중 파일명은 항상 마지막에 있으므로 스라이싱을 이용하여 -1번째까지 즉 마지막을 제외하고 모두 /문자를 사이에 추가하여 하느의 문자열로 만들고 []안에 넣어줘 리스트로 만들어 l1에 대입한다.  \n",
    "- 즉 l1에는 디렉토리 리스트가 담겨있다.\n",
    "- 다음으로 l2에는 파일명인 list의 마지막 값을 리스트 형식으로 대입한다.\n",
    "- 마지막으로 l1과 l2를 +연산하여 리스트를 반환한다."
   ]
  },
  {
   "cell_type": "markdown",
   "metadata": {},
   "source": [
    "# 3. 두 개의 리스트를 인자로 받아서 그 두 개의 리스트에 대한 '합집합'을 반환하는 함수 list_union(lista, listb)를 작성하시오.\n",
    "- 인자로 전달하는 리스트 2 개에는 정수값만 들어간다고 가정하자.\n",
    "- 함수 내에서 새로운 리스트를 만들어 그 리스트 내에 인자로 받은 두 리스트의 모든 원소를 넣어 반환한다.\n",
    "- 반환하는 리스트에는 절대로 중복된 원소가 들어 있으면 안된다 (집합의 조건).\n",
    "- 반환하는 리스트는 정렬이 되어 있어야 한다.\n",
    "- 다음과 같은 실행 및 출력 결과가 도출되어야 한다.\n",
    " * list_union([1, 2, 3], [1, 2, 4])\n",
    "   + [1, 2, 3, 4]\n",
    "\n",
    " * list_union([-10, -5, 0, -1], [100, 9, 0, 9])\n",
    "   + [-10, -5, -1, 0, 9, 100]\n",
    "\n",
    " * list_union([0, 1, 2], [0, 1, 2])\n",
    "   + [0, 1, 2]\n",
    "\n",
    "\n",
    "- [참고] 리스트(l) 내에 새로운 정수값 (예를 들어 10)을 넣는 방법은 l.append(10) 이다.\n",
    "- [참고] 임의의 정수값 (x)이 리스트 (l) 내에 존재하는지 판단하는 방법은 x in l 이다.\n"
   ]
  },
  {
   "cell_type": "code",
   "execution_count": 9,
   "metadata": {},
   "outputs": [
    {
     "name": "stdout",
     "output_type": "stream",
     "text": [
      "[1, 2, 3, 4]\n",
      "[-10, -5, -1, 0, 9, 100]\n",
      "[0, 1, 2]\n"
     ]
    }
   ],
   "source": [
    "def list_union(lista, listb):\n",
    "    list = []\n",
    "    for i in lista:\n",
    "        if i not in list:\n",
    "            list.append(i)\n",
    "    for i in listb:\n",
    "        if i not in list:\n",
    "            list.append(i)        \n",
    "\n",
    "    for j in range(len(list)):\n",
    "        if list[j] > list[j+1]:\n",
    "            list[j], list[j+1] = list[j+1], list[j]\n",
    "        if j == len(list)-2:\n",
    "            break\n",
    "    return list\n",
    "    \n",
    "print(list_union([1,2,3], [1,2,4]))\n",
    "print(list_union([-10,-5,0,-1], [100,9,0,9]))\n",
    "print(list_union([0,1,2], [0,1,2]))"
   ]
  },
  {
   "cell_type": "markdown",
   "metadata": {},
   "source": [
    "> - list_union함수는 두개의 리스트인자를 받는 함수이다.\n",
    "- 이 함수내에 list라는 빈 리스트를 만들어준다.\n",
    "- 그 다음 lista에 있는 리스트 중에 list에 없는 것을 list에 append를 사용해 추가해준다.\n",
    "- 이와같이 listb에 있는 리스트 중에 list에 없는 것을 list에 append를 사용해 추가해준다.\n",
    "- 이렇게 중복되지 않는 원소는 없지만 정렬되지 않은 리스트 list가 만들어진다.\n",
    "- 이를 정렬해주기 위해 list의 길이만큼 반복하여 정렬해준다.\n",
    "- 이 때 j의 값이 list의 마지막 인덱스와 같을 때 list의 범위를 벗어나므로 마지막 인덱스가 되지 전에 break를 이용하여 반복문을 빠져나간다.\n",
    "-  그리고 파이썬에서의 스왑은  list[j], list[j+1] = list[j+1], list[j] 이렇게 하면된다."
   ]
  },
  {
   "cell_type": "markdown",
   "metadata": {},
   "source": [
    "# 4. 알파벳 소문자로만 이루어진 단어 S가 주어진다. 각각의 알파벳에 대해서, 단어에 포함되어 있는 경우에는 처음 등장하는 위치를, 포함되어 있지 않은 경우에는 -1을 출력하는 프로그램을 작성하시오.\n",
    "- 첫째 줄에 단어 S가 주어진다. 단어의 길이는 100을 넘지 않으며, 알파벳 소문자로만 이루어져 있다\n",
    "- 각각의 알파벳에 대해서, a가 처음 등장하는 위치, b가 처음 등장하는 위치, ... z가 처음 등장하는 위치를 공백으로 구분해서 출력한다.\n",
    "\n",
    "- 만약, 어떤 알파벳이 단어에 포함되어 있지 않다면 -1을 출력한다. 단어의 첫 번째 글자는 0번째 위치이고, 두 번째 글자는 1번째 위치이다.\n"
   ]
  },
  {
   "cell_type": "code",
   "execution_count": 2,
   "metadata": {},
   "outputs": [
    {
     "name": "stdout",
     "output_type": "stream",
     "text": [
      "baekjoon\n",
      "1 0 -1 -1 2 -1 -1 -1 -1 4 3 -1 -1 7 5 -1 -1 -1 -1 -1 -1 -1 -1 -1 -1 -1 "
     ]
    }
   ],
   "source": [
    "s = input()\n",
    "for i in range(26):\n",
    "    print(s.find(chr(i + 97)), end=\" \")\n"
   ]
  },
  {
   "cell_type": "markdown",
   "metadata": {},
   "source": [
    "> - s에 사용자가 input을 사용하여 단어를 입력한다.\n",
    "- chr은 숫자를 문자로 바꿔준다. 즉, 97은 a이고 97+25는 z이다.\n",
    "- find를 이용하면 문자열에서 내가 찾고자 하는 문자의 인덱스를 알 수 있다.\n",
    "- a에서 z까지 26번 반복하여 각각 처음 등장하는 위치를 구한다."
   ]
  },
  {
   "cell_type": "markdown",
   "metadata": {},
   "source": [
    "# 5. 문자열 S를 입력받은 후에, 각 문자를 R번 반복해 새 문자열 P를 만든 후 출력하는 프로그램을 작성하시오. 즉, 첫 번째 문자를 R번 반복하고, 두 번째 문자를 R번 반복하는 식으로 P를 만들면 된다. S에는 QR Code \"alphanumeric\" 문자만 들어있다.\n",
    "\n",
    "# QR Code \"alphanumeric\" 문자는 0123456789ABCDEFGHIJKLMNOPQRSTUVWXYZ\\$%*+-./: 이다.\n",
    "- 첫째 줄에 테스트 케이스의 개수 T(1 ≤ T ≤ 1,000)가 주어진다. 각 테스트 케이스는 반복 횟수 R(1 ≤ R ≤ 8), 문자열 S가 공백으로 구분되어 주어진다. S의 길이는 적어도 1이며, 20글자를 넘지 않는다. \n",
    "- 각 테스트 케이스에 대해 P를 출력한다.\n"
   ]
  },
  {
   "cell_type": "code",
   "execution_count": 4,
   "metadata": {},
   "outputs": [
    {
     "name": "stdout",
     "output_type": "stream",
     "text": [
      "2\n",
      "3 ABC\n",
      "AAABBBCCC\n",
      "5 /HTP\n",
      "/////HHHHHTTTTTPPPPP\n"
     ]
    }
   ],
   "source": [
    "T = int(input())\n",
    "P = ''\n",
    "for i in range(T):\n",
    "    R, S = input().split()\n",
    "    for j in S:\n",
    "        P += j*int(R)\n",
    "    print(P)\n",
    "    P = ''"
   ]
  },
  {
   "cell_type": "markdown",
   "metadata": {},
   "source": [
    "> - 먼저 테스트 케이스의 개수를 input()으로 문자열 형태로 입력받은 뒤 int()로 정수로 바꿔준다.\n",
    "- 다음에 새 문자열 P를 공백으로 초기화 및 선언한다.\n",
    "- 반복하고자 하는 횟수인 R과 반복하고자 하는 문자열인 S를 input()으로 입력받되 한번에 두개의 데이터를 입력받기 위해 split()을 이용한다.\n",
    "- 문제에 입력할 때 공백으로 R과 S가 공백으로 구분되어 주어진다고 되어있으므로 split의 괄호안에는 공백으로 두면된다.\n",
    "- 그리고 이제 S문자열의 각 단어마다 R번 반복하여 P에 저장해야 하므로 문자열인 R을 정수로 바꾸어주고 S를 for문을 이용해 각 단어마다 접근하여 *연산을 이용해 R번 반복한다.\n",
    "- 이렇게 된 P를 출력한 뒤 다음 케이스를 위해 P를 공백으로 다시 초기화해준다."
   ]
  },
  {
   "cell_type": "markdown",
   "metadata": {},
   "source": [
    "<img src=\"https://user-images.githubusercontent.com/43226314/47179815-02113680-d35a-11e8-8ca4-fe21215ac282.png\">"
   ]
  },
  {
   "cell_type": "markdown",
   "metadata": {},
   "source": [
    "# 6. 웹 URL로 지정된 웹페이지를 문자열로 가져와 1) 모든 HTML 태그를 제외한 순수 텍스트 문자열만을 걸러내고, 2) 그 순수 텍스트 문자열 안에 존재하는 단어가 총 몇개인지 출력하는 프로그램을 작성하시오.  \n",
    "- HTML 태그는 다음 조건을 가지는 것이다.\n",
    "  - < 로 시작하여 >로 끝난다.\n",
    "  - 예를 들어, 아래와 같은 HTML 내용 내에 한 줄이 있다고 가정하자.\n",
    "     * <label for=\"keep_signed\">로그인 유지</label>\n",
    "  - 위 소스에서 HTML 태그를 제외한 순수 텍스트 문자열은 아래와 같다.\n",
    "     * 로그인 유지\n",
    "  - 한편, 아래와 같은 HTML 한 줄이 있다고 가정하자.\n",
    "     * <link rel=\"stylesheet\" href=\"/common/css/xe.min.css?20150910092654\" />\n",
    "  - 위 한 줄은 HTML 태그로만 구성된 것이며 걸러낼 수 있는 순수 텍스 문자열은 존재하지 않는다.\n",
    "\n",
    "- 단어를 나누는 기준은 오로지 공백문자 (whitespace)이다.\n",
    "  - 즉, 위 순수 텍스트 문자열인 \"로그인 유지\"에서 분리한 단어는 \"로그인\"과 \"유지\"이다.\n",
    "\n",
    "- 중복을 고려하지 않고 무조건 모든 단어의 개수를 세어서 출력한다.\n",
    "- 본 숙제를 위하여 HTML 파싱과 관련된 모듈 (예. BeautifulSoup) 사용 금지"
   ]
  },
  {
   "cell_type": "code",
   "execution_count": 13,
   "metadata": {
    "scrolled": false
   },
   "outputs": [
    {
     "name": "stdout",
     "output_type": "stream",
     "text": [
      "530\n",
      "['컴퓨터공학부', 'var', 'current_url', '=', '\"https://cse.koreatech.ac.kr/\";', 'var', 'request_uri', '=', '\"https://cse.koreatech.ac.kr/\";', 'var', 'current_mid', '=', '\"home_2015\";', 'var', 'waiting_message', '=', '\"서버에', '요청', '중입니다.', '잠시만', '기다려주세요.\";', 'var', 'ssl_actions', '=', 'new', 'Array();', 'var', 'default_url', '=', '\"https://cse.koreatech.ac.kr/\";', 'var', 'http_port', '=', '80;var', 'https_port', '=', '443;var', 'enforce_ssl', '=', 'true;', '//<![CDATA[', 'xe.current_lang', '=', '\"ko\";', 'xe.cmd_find', '=', '\"찾기\";', 'xe.cmd_cancel', '=', '\"취소\";', 'xe.cmd_confirm', '=', '\"확인\";', 'xe.msg_no_root', '=', '\"루트는', '선택', '할', '수', '없습니다.\";', 'xe.msg_no_shortcut', '=', '\"바로가기는', '선택', '할', '수', '없습니다.\";', 'xe.msg_select_menu', '=', '\"대상', '메뉴', '선택\";', '//]]>', 'Schoolfun', '-', 'Study', 'and', 'Fun', '<!--', '-->', '로그인', '로그인', '아이디', '비밀번호', '로그인', '유지', '브라우저를', '닫더라도', '로그인이', '계속', '유지될', '수', '있습니다.', '로그인', '유지', '기능을', '사용할', '경우', '다음', '접속부터는', '로그인할', '필요가', '없습니다.', '단,', '게임방,', '학교', '등', '공공장소에서', '이용', '시', '개인정보가', '유출될', '수', '있으니', '꼭', '로그아웃을', '해주세요.', '회원가입', 'ID/PW', '찾기', 'IT', '교육의', '글로벌', '메카!한국기술교육대학교', '컴퓨터공학부', 'Close', '소개', '구성원소개', '학사안내', '입학', '학부', '대학원', '학부광장', '자료실', '대학원', '공학교육인증', '학부서비스', 'Registration', '컴퓨터공학부', 'School', 'of', 'Computer', 'Science', 'and', 'Engineering', 'IT', '융합소프트웨어', '인력양성사업', 'CK', '(Creative', 'Korea)-I', '교육역량강화사업', '온라인', '컨텐츠', 'Online', 'Contents', 'for', 'Education', 'Capability', 'Empowerment', 'IT', '교육의', '글로벌', '메카', '한국기술교육대학교', '컴퓨터공학부', '홈페이지에', '오신', '것을환영합니다!', 'IT', '융합소프트웨어', '인력양성사업', '글로벌', '수준의', 'IT전문인력', '양성', 'IT융합분야에', '대한', '국제적인', '경쟁력', '고취', '바로가기', '교육역량강화사업', '컨텐츠', '교육역량강화사업', '온라인', '컨텐츠를', '소개합니다.', '바로가기', '공지사항', '[특성화]', '5차년도', 'IT융합', '개도국', '기술지원', '봉사(해외)', '...', '2018-10-17', '13:57', '13:57', '[특성화]', '2018', '졸업작품', '산업체', '평가회', '결과', '공지(졸작...', '2018-10-16', '15:52', '15:52', '[특성화]', '5차년도', '지식재산권(특허)', '출원', '지원', '접수', '알림', '2018-10-16', '09:32', '09:32', '[특성화]', 'G-STAR', '2018', '전시회', '선발', '학생', '공고', '2018-10-08', '17:14', '17:14', '[특성화][신청마감]', 'G-STAR', '2018', '전시회', '학생', '모집', '공고', '2018-10-08', '15:24', '15:24', '자유게시판', '졸업작품전시회', '기간', '헤어/메이크업', '2018-10-07', '14:48', '14:48', '※모의토익비', '지원', '공지※', '2018-09-28', '09:37', '09:37', 'ACM-ICPC', '예선', '신청기간이', '얼마', '안', '남았습니다!', '2018-09-13', '11:36', '11:36', '문화행사', '취소', '공지', '2018-09-10', '19:17', '19:17', '&amp;lt;2018학년도', '2학기&amp;gt;', '사물함', '신청을', '받겠...', '2018-09-06', '13:06', '13:06', '취업게시판', '[국가보안기술연구소]', '정규직', '채용', '2018-10-04', '14:18', '14:18', '한글과컴퓨터그룹', '2018년', '하반기', '신입/경력', '공채', '~10.10', '2018-09-27', '13:13', '13:13', '[구인]천안', '충무병원', '전산실', '2018-09-18', '15:25', '15:25', '[정부교육]', 'K-Shield', '주니어', '교육생', '모집(정보보호)', '~9.5', '2018-09-03', '07:53', '07:53', '인천]', '에이스테크놀로지', '연구개발인력', '모집', '~', '2018.9.9...', '2018-08-29', '09:06', '09:06', 'Platum', '금융,', '제조,', '인재', '연결하는', '세계', '최장', '해상교량', '‘강주...', '2018-10-18', '16:26', '16:26', '네이버', '블로그,', '카페', '서비스', '중국에서', '접속', '차단', '2018-10-18', '14:04', '14:04', '中', '최강', '물류', '기업', '‘징동닷컴’,', '택배', '사업', '진출', '2018-10-18', '13:36', '13:36', '비트코인', '기반', '서플라이', '체인', '플랫폼', '‘템코’,', '파운데이...', '2018-10-18', '12:58', '12:58', '문피아,', 'CLL·엔씨소프트로부터', '250억원', '투자', '유치', '2018-10-18', '11:12', '11:12', '전자신문', '이동통신', '가입자', '1만명당', '유통점', '8.2개', '···', '미국...', '2018-10-18', '17:00', '17:00', \"'아이폰XS\", \"맥스'\", '200만원대', '책정', '2018-10-18', '17:00', '17:00', 'LG유플러스,', '5G', '콘텐츠', \"'U+아이돌Live'\", '출시', '2018-10-18', '16:19', '16:19', 'SK텔레콤,', 'AI', '스피커', \"'누구'에\", '한솔교육', '콘텐츠', '탑재', '2018-10-18', '15:41', '15:41', '[뉴스해설]재난망,', '늦은', '만큼', '완성도', '높여야', '2018-10-18', '14:42', '14:42', 'TechCrunch', 'MoviePass', 'is', 'under', 'investigation', 'for', 'securitie...', '2018-10-19', '04:47', '04:47', 'Uber', 'is', 'developing', 'an', 'on-demand', 'staffing', 'business', '2018-10-19', '03:19', '03:19', 'Researchers', 'create', 'virtual', 'smells', 'by', 'electrocu...', '2018-10-19', '03:14', '03:14', 'There’s', 'now', 'proof', 'that', 'quantum', 'computers', 'can', 'o...', '2018-10-19', '03:11', '03:11', 'Google', 'Maps’', 'ETA', 'sharing', 'feature', 'hits', 'iOS', '2018-10-19', '02:18', '02:18', '<!--', 'Back', 'to', 'Top', 'Leading', 'Together', 'for', 'Brighter', 'Future', '-->', 'Quick', 'Navigation', '한국기술교육대학교', '홈페이지', '한국기술교육대학교', 'WEBMAIL', '한국기술교육대학교', '온라인', '평생교육원', 'IT', '융합소프트웨어', '인력양성사업', '컴퓨터공학부', '교직원', '업무', '자료실', 'Campus', 'Location', 'Contact', 'CSE', '충청남도', '천안시', '동남구', '병천면', '충절로', '1600한국기술교육대학교', '컴퓨터공학부', '학과사무실', 'TEL', '(041)', '560', '1460', '~', '1461', 'FAX', '(041)', '560', '1462', 'Facebook', 'Twitter', 'Google', 'Plus', 'Linkedin-->', '(31253)', '충청남도', '천안시', '동남구', '병천면', '충절로', '1600', '(가전리,', '한국기술교육대학교)', '컴퓨터공학부', 'Copyright', '©', '2015.', 'All', 'rights', 'reserved']\n"
     ]
    }
   ],
   "source": [
    "import requests\n",
    "import re\n",
    "\n",
    "req = requests.get('http://cse.koreatech.ac.kr')\n",
    "\n",
    "source = req.text\n",
    "\n",
    "text = re.sub('<!--.*?-->', '',source)\n",
    "\n",
    "text2 = re.sub('<.*?>', '',text)\n",
    "s=text2.split()\n",
    "print(len(s))\n",
    "print(s)"
   ]
  },
  {
   "cell_type": "markdown",
   "metadata": {},
   "source": [
    "> - HTML 태그를 제외한 순수 텍스트 문자열을 걸러내는 방법은 다음과 같다.\n",
    "- 정규 표현식을 사용하기 위해 re모듈을 import해준다. \n",
    "- 다음으로 re.sub함수를 이용하여 문자열을 치환한다. \n",
    "- re.sub(pattern, repl, string)은 string에서 pattern과 매치하는 텍스트를 repl로 치환한다는 의미이다.\n",
    "- 즉 string으로 source를 주고 pattern은 주석인 '<!--.*?-->'문자열을, 그리고 repl은 공백인 ''를 주면 '<!--.*?-->'이 형태를 가지고 있는 문자열을 ''으로 치환한다는 뜻이다.\n",
    "- 이 때 <!--.*?-->에서 <!-- -->는 주석을 의미하고 그 안의 .*?이 바로 정규 표현식의 특수 기호이다. \n",
    "- .은 개행 문자를 제외한 아무 문자 하나를 의미하고, *은 앞의 문자가 0번 이상 등장한다는 뜻이고 마지막으로 ?은 앞의 문자가 0번 또는 1번만 등장한다는 의미이다. \n",
    "- .\\*과 .\\*?의 차이점은 Greedy하게 탐색을 하느냐 안하느냐이다.\n",
    "- .\\*는 조건에 가능한 많이 (Greedy)매칭을 시키고, .*?은 조건에 가능한 적게 매칭을 시킨다. \n",
    "- 즉, 주석(<!-- -->)안에 공백이 있든 문자열이 있든 모두 공백으로 치환하게 된다.\n",
    "- 다음으로 주석이외의 HTML 태그를 지우기 위해 re.sub('<.*?>', '',text)를 이용한다.\n",
    "- 이렇게 하면 HTML 태그를 제외한 순수 텍스트 문자열이 나오고 HTML 태그를 공백으로 치환하였기 때문에 split()함수를 이용하여 공백단위로 문자열을 구분하여 리스트로 반환받고 그 리스트를 len()함수를 이용하여 리스트의 길이인 순수 텍스트 문자열의 길이를 알 수 있다."
   ]
  },
  {
   "cell_type": "markdown",
   "metadata": {},
   "source": [
    "이번 과제를 하면서 문자열 메소드에 대해 많은 공부를 하게 되었다. 특히 마지막 문제인 순수 텍스트 문자열의 길이를 구하는 것이 가장 기억에 많이 남는다. 처음에는 <>단위로 split하여 구현하려 하기도 하고 replace를 이용해 해보려 했지만 잘 되지 않았다. 그래서 와일트카드 같은 것이 없을까 하고 찾아보다 re모듈을 알게 되었고 그 모듈에 내가 원하는 것이 있었다. "
   ]
  }
 ],
 "metadata": {
  "kernelspec": {
   "display_name": "Python 3",
   "language": "python",
   "name": "python3"
  },
  "language_info": {
   "codemirror_mode": {
    "name": "ipython",
    "version": 3
   },
   "file_extension": ".py",
   "mimetype": "text/x-python",
   "name": "python",
   "nbconvert_exporter": "python",
   "pygments_lexer": "ipython3",
   "version": "3.6.5"
  }
 },
 "nbformat": 4,
 "nbformat_minor": 2
}
